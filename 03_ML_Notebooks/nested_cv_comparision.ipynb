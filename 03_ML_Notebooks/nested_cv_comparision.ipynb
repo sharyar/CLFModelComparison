{
 "cells": [
  {
   "cell_type": "code",
   "execution_count": 1,
   "metadata": {},
   "outputs": [],
   "source": [
    "# import required packages\n",
    "# source: https://www.kaggle.com/allunia/patterns-of-colorectal-cancer-wally\n",
    "\n",
    "import numpy as np\n",
    "import pandas as pd\n",
    "\n",
    "import matplotlib.pyplot as plt\n",
    "import matplotlib\n",
    "import matplotlib.gridspec as gridspec\n",
    "\n",
    "import seaborn as sns\n",
    "sns.set(style='darkgrid')\n",
    "\n",
    "# Import classifiers used:\n",
    "from sklearn import svm\n",
    "from sklearn.neighbors import KNeighborsClassifier\n",
    "from sklearn.naive_bayes import GaussianNB\n",
    "from sklearn.linear_model import SGDClassifier\n",
    "from sklearn.dummy import DummyClassifier\n",
    "from sklearn.ensemble import AdaBoostClassifier\n",
    "\n",
    "# Data Transformation\n",
    "from sklearn.pipeline import Pipeline\n",
    "from sklearn.preprocessing import OneHotEncoder, LabelEncoder, LabelBinarizer\n",
    "\n",
    "\n",
    "# Import ovo and ovr related stuff\n",
    "from sklearn.multiclass import OneVsOneClassifier, OneVsRestClassifier\n",
    "from sklearn.ensemble import VotingClassifier\n",
    "\n",
    "# Pre-processing Data:\n",
    "from sklearn.preprocessing import StandardScaler, MinMaxScaler\n",
    "from sklearn.model_selection import train_test_split, StratifiedKFold, cross_validate, cross_val_predict, GridSearchCV, KFold\n",
    "\n",
    "# Import Metrics\n",
    "from sklearn.metrics import f1_score, accuracy_score, precision_recall_curve, classification_report, multilabel_confusion_matrix, confusion_matrix, plot_confusion_matrix, plot_roc_curve, precision_score, recall_score\n",
    "\n",
    "# Tensorflow\n",
    "import tensorflow as tf\n",
    "from tensorflow.keras.layers import Conv2D, MaxPool2D, Dropout, Flatten, Dense, Reshape\n",
    "from tensorflow.keras.models import Sequential\n",
    "from tensorflow.keras.preprocessing.image import ImageDataGenerator\n",
    "from tensorflow.keras.wrappers.scikit_learn import KerasClassifier\n",
    "import kerastuner as kt\n",
    "from tensorflow import keras\n",
    "\n",
    "#Base Libraries\n",
    "import random\n",
    "\n",
    "# Custom Transformer for Y\n",
    "from sklearn.base import BaseEstimator, TransformerMixin\n",
    "from sklearn.compose import TransformedTargetRegressor\n",
    "\n",
    "from tqdm import tqdm_notebook\n",
    "\n",
    "from sklearn.experimental import enable_hist_gradient_boosting\n",
    "from sklearn.ensemble import HistGradientBoostingClassifier"
   ]
  },
  {
   "cell_type": "code",
   "execution_count": 2,
   "metadata": {},
   "outputs": [
    {
     "output_type": "stream",
     "name": "stdout",
     "text": [
      "GPU Detected. TF good to go\n"
     ]
    }
   ],
   "source": [
    "# Ensure that GPU is detected\n",
    "assert(tf.config.experimental.list_physical_devices('GPU') is not None), 'GPU not detected'\n",
    "print('GPU Detected. TF good to go')"
   ]
  },
  {
   "cell_type": "markdown",
   "metadata": {},
   "source": [
    "### Read Data from CSV File & Do Preprocessing required"
   ]
  },
  {
   "cell_type": "code",
   "execution_count": 3,
   "metadata": {},
   "outputs": [],
   "source": [
    "df = pd.read_csv('../01_Data_Files/hmnist_64_64_L.csv', engine='c') # read 64x64 gray scale images as csv\n",
    "dict_class_names = {1: 'Tumor', 2:'Stroma', 3:'Complex', 4:'Lymphoma', 5:'Debris', 6:'Mucosa', 7:'Adipose', 8:'Empty'}\n",
    "\n",
    "# Adds a column with name of the label based on the integer value\n",
    "df['label_name'] = df['label'].map(dict_class_names)\n",
    "\n",
    "# \n",
    "class_names = ['Tumor', 'Stroma', 'Complex', 'Lymphoma', 'Debris', 'Mucosa', 'Adipose', 'Empty']"
   ]
  },
  {
   "cell_type": "code",
   "execution_count": 4,
   "metadata": {},
   "outputs": [],
   "source": [
    "X = df.drop(['label', 'label_name'], axis=1).values\n",
    "y = df.loc[:, 'label_name'].values.reshape(-1,1)\n",
    "\n",
    "assert len(X) == len(y), 'X & y length mismatch'"
   ]
  },
  {
   "cell_type": "markdown",
   "metadata": {},
   "source": [
    "### Use MinMax Scaler to scale the values of X from 0-255 to between 0 and 1. \n",
    "\n",
    "The min max scaler uses the following formula to calculate the scaled values:\n",
    "\n",
    "$$ x^{\\prime} = \\frac{x-min(x)}{max(x)-min(x)}$$"
   ]
  },
  {
   "cell_type": "code",
   "execution_count": 5,
   "metadata": {},
   "outputs": [],
   "source": [
    "# Scale Values of X via a MinMaxScaler\n",
    "# We know that our input can vary between 0 and 255\n",
    "min_max_scaler = MinMaxScaler()\n",
    "\n",
    "# Create a fake array with values between 0 and 255 to use for fitting min max scaler\n",
    "scaling_array = np.append(\n",
    "    [np.zeros_like(X[0], dtype=np.int16)], [np.full_like(X[0], 255, dtype=np.int16)], axis=0\n",
    ")\n",
    "min_max_scaler.fit(scaling_array)\n",
    "X_scaled = min_max_scaler.transform(X)"
   ]
  },
  {
   "cell_type": "markdown",
   "metadata": {},
   "source": [
    "### One Hot Encode Y values for Tensorflow Usage & Label Encode for Sklearn Usage\n",
    "\n",
    "To learn more about one hot encoding:\n",
    "https://scikit-learn.org/stable/modules/generated/sklearn.preprocessing.OneHotEncoder.html?highlight=one%20hot%20encode#sklearn.preprocessing.OneHotEncoder\n",
    "\n",
    "To learn more about label encoding:\n",
    "https://scikit-learn.org/stable/modules/generated/sklearn.preprocessing.LabelEncoder.html?highlight=encoder#sklearn.preprocessing.LabelEncoder\n",
    "\n",
    "\n"
   ]
  },
  {
   "cell_type": "code",
   "execution_count": 6,
   "metadata": {},
   "outputs": [
    {
     "output_type": "stream",
     "name": "stdout",
     "text": [
      "One Hot Encoded Y Shape:  (5000, 8)\nLabel Encoded Y Shape: (5000,), Max Value: 7, Min Value: 0\n"
     ]
    }
   ],
   "source": [
    "# One Hot Encode y_values:\n",
    "one_hot_encoder = OneHotEncoder(sparse=False)\n",
    "y_one_hot = one_hot_encoder.fit_transform(y)\n",
    "print('One Hot Encoded Y Shape: ', y_one_hot.shape)\n",
    "\n",
    "# Label Encoding to conver String labels to integer labels:\n",
    "label_encoder = LabelEncoder()\n",
    "y_int_encode = label_encoder.fit_transform(y)\n",
    "print(f'Label Encoded Y Shape: {y_int_encode.shape}, Max Value: {y_int_encode.max()}, Min Value: {y_int_encode.min()}')"
   ]
  },
  {
   "cell_type": "code",
   "execution_count": 7,
   "metadata": {},
   "outputs": [],
   "source": [
    "# Lets make sure that that distribution of our data hasn't changed significantly due to scaling. \n",
    "# Mostly a sanity check\n",
    "# fig, axs = plt.subplots(4, 4, figsize=(22,27))\n",
    "# for i in range(4):\n",
    "\n",
    "#     # Show Original Images\n",
    "#     original_image = np.reshape(X_scaled[i], (64,64))\n",
    "#     axs[0,i].imshow(original_image, cmap='gray')\n",
    "#     label_image = y[i]\n",
    "#     axs[0,i].set_title(f'Original Image: {label_image}')\n",
    "#     axs[0,i].grid(False)\n",
    "\n",
    "#     # Show histogram of values in image:\n",
    "#     sns.distplot(original_image, ax=axs[1,i])\n",
    "#     axs[1,i].set_title('Original Image Distribution')\n",
    "#     axs[1,i].set_ylabel('')\n",
    "\n",
    "#     # Show Scaled Images:\n",
    "#     scaled_image = np.reshape(X_scaled[i], (64,64))\n",
    "#     axs[2,i].imshow(scaled_image, cmap='gray')\n",
    "#     label_image = y[i]\n",
    "#     axs[2,i].set_title(f'MinMax Scaled Image: {label_image}')\n",
    "#     axs[2,i].grid(False)\n",
    "\n",
    "#     # Show histogram of values in image:\n",
    "#     sns.distplot(scaled_image, ax=axs[3,i])\n",
    "#     axs[3,i].set_title('MinMax Image Distribution')\n",
    "#     axs[3,i].set_ylabel('')\n",
    "\n",
    "# plt.savefig('Image Distributions.png')\n"
   ]
  },
  {
   "cell_type": "markdown",
   "metadata": {},
   "source": [
    "### Setup Nested CV\n",
    "\n",
    "Nested CV allows us to do both hyper parameter tuning and classifier performance comparision without producing an overly-optimistic score as in the case of non-nested CV. This happens when information leaks into the model since we use the same data to not only do hyper paramter tuning but also evaluation. \n",
    "\n",
    "We will use evolutionary algorithms to find the best parameters instead of relying on grid search. This is done in the interest of time. "
   ]
  },
  {
   "cell_type": "markdown",
   "metadata": {},
   "source": [
    "##### Parameters for each model:\n",
    "\n",
    "Create a parameter grid for evolutionary search: \n",
    "The structure of the grid wil be: {clf_name:{param_name:value, param_name:value}, clf_name:{param_name:value...}}\n",
    "\n",
    "Nested dictionaries!"
   ]
  },
  {
   "cell_type": "code",
   "execution_count": 8,
   "metadata": {},
   "outputs": [],
   "source": [
    "# Convolutional Neural Network:\n",
    "# Architecture: Input - Conv2D, Conv 2D, Conv2D, Flatten, Dense, Dense, Dense - Output\n",
    "# Source: https://www.kaggle.com/efeergun96/colorectal-histology-prediction-by-cnn\n",
    "def create_model(hp):\n",
    "    model = Sequential()\n",
    "\n",
    "    model.add(Reshape(\n",
    "        target_shape= (64,64,1), \n",
    "        input_shape = (4096,),\n",
    "    ))\n",
    "\n",
    "    model.add(Conv2D(\n",
    "        filters = 128, \n",
    "        kernel_size = (5,5), \n",
    "        padding = 'same',\n",
    "        activation = 'relu' \n",
    "    ))\n",
    "    model.add(MaxPool2D(pool_size=(2,2)))\n",
    "    model.add(Dropout(0.25))\n",
    "\n",
    "    model.add(Conv2D(\n",
    "        filters=64,\n",
    "        kernel_size=(3,3),\n",
    "        padding='same',\n",
    "        activation='relu'\n",
    "    ))\n",
    "    model.add(MaxPool2D(pool_size=(2,2)))\n",
    "    model.add(Dropout(0.25))\n",
    "\n",
    "    model.add(Conv2D(\n",
    "        filters=64,\n",
    "        kernel_size=(3,3),\n",
    "        padding='same',\n",
    "        activation='relu'\n",
    "    ))\n",
    "    model.add(MaxPool2D(pool_size=(2,2)))\n",
    "    model.add(Dropout(0.25))\n",
    "\n",
    "    model.add(Flatten())\n",
    "\n",
    "    model.add(Dense(256, activation='relu'))\n",
    "    model.add(Dense(64, activation='relu'))\n",
    "    model.add(Dense(32, activation='relu'))\n",
    "\n",
    "    model.add(Dense(8, activation='softmax'))\n",
    "\n",
    "    hp_learning_rate = hp.Choice('learning_rate', values = [1e-2, 1e-3, 1e-4])\n",
    "\n",
    "    model.compile(optimizer=keras.optimizers.Adam(learning_rate= hp_learning_rate) , loss = \"categorical_crossentropy\", metrics=[\"accuracy\"])\n",
    "    return model"
   ]
  },
  {
   "cell_type": "code",
   "execution_count": 9,
   "metadata": {},
   "outputs": [],
   "source": [
    "param_grid = {}\n",
    "param_grid['k_neighbors_clf'] = {'n_neighbors':np.linspace(3, 20, num=3,dtype=np.int),\n",
    "                                'weights':['distance'],\n",
    "                                'leaf_size': np.linspace(10, 30, num=3, dtype=np.int),\n",
    "                                'p':[1]}\n",
    "\n",
    "param_grid['gaussianb_clf'] = {'var_smoothing':[1e-9]}\n",
    "param_grid['svm_clf_ovr']  = {  'C'     : np.logspace(-5, 3, num=4, base=10),\n",
    "                            'gamma' : np.logspace(-9, 3, num=4, base=10), \n",
    "                            'kernel': ['rbf'],\n",
    "                            'random_state':[42],\n",
    "                            'decision_function_shape':['ovr']}\n",
    "\n",
    "param_grid['random_forest_clf'] = {\n",
    "    'n_estimators':[20,100,200],\n",
    "    'random_state':[42]\n",
    "}\n",
    "\n",
    "param_grid['dummy_clf'] = {'strategy': ['stratified'],\n",
    "                            'random_state':[42]}\n",
    "\n",
    "random.seed(42)"
   ]
  },
  {
   "cell_type": "code",
   "execution_count": 35,
   "metadata": {},
   "outputs": [
    {
     "output_type": "stream",
     "name": "stdout",
     "text": [
      "INFO:tensorflow:Reloading Oracle from existing project keras-model-logs/ece740-project1/oracle.json\n",
      "INFO:tensorflow:Reloading Tuner from keras-model-logs/ece740-project1/tuner0.json\n"
     ]
    }
   ],
   "source": [
    "k_neighbors_clf = KNeighborsClassifier()\n",
    "gaussianb_clf = GaussianNB()\n",
    "\n",
    "svm_clf_ovr = svm.SVC()\n",
    "\n",
    "from sklearn.ensemble import RandomForestClassifier\n",
    "\n",
    "random_forest_clf = RandomForestClassifier()\n",
    "\n",
    "# Used for a baseline. \n",
    "dummy_clf = DummyClassifier()\n",
    "\n",
    "tuner = kt.Hyperband(create_model, \n",
    "                                    objective= 'val_accuracy',\n",
    "                                    max_epochs=20,\n",
    "                                    factor=3,\n",
    "                                    directory = 'keras-model-logs',\n",
    "                                    project_name = 'ece740-project1'\n",
    "                                    )\n",
    "\n",
    "# Dictionary of all classifiers\n",
    "clfs = {\n",
    "    'tuner':tuner,\n",
    "    'k_neighbors_clf' : k_neighbors_clf,\n",
    "    'gaussianb_clf' : gaussianb_clf,\n",
    "    'svm_clf_ovr' : svm_clf_ovr,\n",
    "    'random_forest_clf' : random_forest_clf,\n",
    "    'dummy_clf': dummy_clf \n",
    "}\n",
    "\n",
    "scoring = {\n",
    "    'acc':'accuracy',\n",
    "    'prec_macro':'precision_macro',\n",
    "    'rec_macro':'recall_macro',\n",
    "    'f1_macro':'f1_macro',\n",
    "}\n",
    "\n",
    "def custom_scorer(y_true, y_pred, score_dict):\n",
    "    if not score_dict:\n",
    "        score_dict['test_acc'] = []\n",
    "        score_dict['test_prec_macro'] = []\n",
    "        score_dict['test_rec_macro'] = []\n",
    "        score_dict['test_f1_macro'] = []\n",
    "    \n",
    "    score_dict['test_acc'].append(accuracy_score(y_true, y_pred))\n",
    "    score_dict['test_prec_macro'].append(precision_score(y_true, y_pred, average='macro'))\n",
    "    score_dict['test_rec_macro'].append(recall_score(y_true, y_pred, average='macro'))\n",
    "    score_dict['test_f1_macro'].append(f1_score(y_true, y_pred, average='macro'))\n",
    "\n"
   ]
  },
  {
   "cell_type": "code",
   "execution_count": 11,
   "metadata": {},
   "outputs": [
    {
     "output_type": "stream",
     "name": "stdout",
     "text": [
      "Fitting and testing tuner classifier\n"
     ]
    },
    {
     "output_type": "display_data",
     "data": {
      "text/plain": "HBox(children=(HTML(value=''), FloatProgress(value=1.0, bar_style='info', layout=Layout(width='20px'), max=1.0…",
      "application/vnd.jupyter.widget-view+json": {
       "version_major": 2,
       "version_minor": 0,
       "model_id": "50ff7ae254634f969f7887b93188eeba"
      }
     },
     "metadata": {}
    },
    {
     "output_type": "display_data",
     "data": {
      "text/plain": "HBox(children=(HTML(value=''), FloatProgress(value=1.0, bar_style='info', layout=Layout(width='20px'), max=1.0…",
      "application/vnd.jupyter.widget-view+json": {
       "version_major": 2,
       "version_minor": 0,
       "model_id": "e97f4e91a4184be6bfdcf1e3cf693e0d"
      }
     },
     "metadata": {}
    },
    {
     "output_type": "stream",
     "name": "stdout",
     "text": [
      "INFO:tensorflow:Oracle triggered exit\n",
      "INFO:tensorflow:Oracle triggered exit\n",
      "INFO:tensorflow:Oracle triggered exit\n",
      "\n",
      "Epoch 1/20\n",
      "94/94 [==============================] - 1s 11ms/step - loss: 0.9330 - accuracy: 0.6095 - val_loss: 2.0995 - val_accuracy: 0.0000e+00\n",
      "Epoch 2/20\n",
      "94/94 [==============================] - 1s 8ms/step - loss: 0.8667 - accuracy: 0.6349 - val_loss: 2.4217 - val_accuracy: 0.0000e+00\n",
      "Epoch 3/20\n",
      "94/94 [==============================] - 1s 8ms/step - loss: 0.9099 - accuracy: 0.6152 - val_loss: 2.3045 - val_accuracy: 0.0060\n",
      "Epoch 4/20\n",
      "94/94 [==============================] - 1s 8ms/step - loss: 0.8098 - accuracy: 0.6639 - val_loss: 2.3692 - val_accuracy: 0.0060\n",
      "Epoch 5/20\n",
      "94/94 [==============================] - 1s 8ms/step - loss: 0.8231 - accuracy: 0.6599 - val_loss: 2.6247 - val_accuracy: 0.0000e+00\n",
      "Epoch 6/20\n",
      "94/94 [==============================] - 1s 8ms/step - loss: 0.7702 - accuracy: 0.6702 - val_loss: 2.5188 - val_accuracy: 0.0000e+00\n",
      "Epoch 7/20\n",
      "94/94 [==============================] - 1s 8ms/step - loss: 0.6871 - accuracy: 0.7139 - val_loss: 2.4016 - val_accuracy: 0.0569\n",
      "Epoch 8/20\n",
      "94/94 [==============================] - 1s 9ms/step - loss: 0.7171 - accuracy: 0.7066 - val_loss: 2.9109 - val_accuracy: 0.0000e+00\n",
      "Epoch 9/20\n",
      "94/94 [==============================] - 1s 8ms/step - loss: 0.7319 - accuracy: 0.6809 - val_loss: 2.4402 - val_accuracy: 0.1287\n",
      "Epoch 10/20\n",
      "94/94 [==============================] - 1s 8ms/step - loss: 0.6566 - accuracy: 0.7409 - val_loss: 2.4676 - val_accuracy: 0.0719\n",
      "Epoch 11/20\n",
      "94/94 [==============================] - 1s 8ms/step - loss: 0.5779 - accuracy: 0.7706 - val_loss: 1.6297 - val_accuracy: 0.3503\n",
      "Epoch 12/20\n",
      "94/94 [==============================] - 1s 9ms/step - loss: 0.6924 - accuracy: 0.7106 - val_loss: 2.6434 - val_accuracy: 0.0389\n",
      "Epoch 13/20\n",
      "94/94 [==============================] - 1s 9ms/step - loss: 0.5639 - accuracy: 0.7706 - val_loss: 1.8929 - val_accuracy: 0.2126\n",
      "Epoch 14/20\n",
      "94/94 [==============================] - 1s 9ms/step - loss: 0.5165 - accuracy: 0.7863 - val_loss: 2.8014 - val_accuracy: 0.0898\n",
      "Epoch 15/20\n",
      "94/94 [==============================] - 1s 8ms/step - loss: 0.5151 - accuracy: 0.7976 - val_loss: 2.8552 - val_accuracy: 0.0150\n",
      "Epoch 16/20\n",
      "94/94 [==============================] - 1s 8ms/step - loss: 0.4671 - accuracy: 0.8273 - val_loss: 2.4524 - val_accuracy: 0.1198\n",
      "Epoch 17/20\n",
      "94/94 [==============================] - 1s 9ms/step - loss: 0.4616 - accuracy: 0.8163 - val_loss: 2.5074 - val_accuracy: 0.1766\n",
      "Epoch 18/20\n",
      "94/94 [==============================] - 1s 9ms/step - loss: 0.4320 - accuracy: 0.8266 - val_loss: 2.2821 - val_accuracy: 0.2545\n",
      "Epoch 19/20\n",
      "94/94 [==============================] - 1s 8ms/step - loss: 0.3607 - accuracy: 0.8596 - val_loss: 2.2486 - val_accuracy: 0.2156\n",
      "Epoch 20/20\n",
      "94/94 [==============================] - 1s 8ms/step - loss: 0.3597 - accuracy: 0.8586 - val_loss: 2.8575 - val_accuracy: 0.1737\n"
     ]
    },
    {
     "output_type": "display_data",
     "data": {
      "text/plain": "HBox(children=(HTML(value=''), FloatProgress(value=1.0, bar_style='info', layout=Layout(width='20px'), max=1.0…",
      "application/vnd.jupyter.widget-view+json": {
       "version_major": 2,
       "version_minor": 0,
       "model_id": "0223e1d6a331438781fdd1af72b3b491"
      }
     },
     "metadata": {}
    },
    {
     "output_type": "stream",
     "name": "stdout",
     "text": [
      "INFO:tensorflow:Oracle triggered exit\n",
      "INFO:tensorflow:Oracle triggered exit\n",
      "INFO:tensorflow:Oracle triggered exit\n",
      "\n",
      "Epoch 1/20\n",
      "94/94 [==============================] - 1s 10ms/step - loss: 0.9578 - accuracy: 0.5855 - val_loss: 2.4211 - val_accuracy: 0.0000e+00\n",
      "Epoch 2/20\n",
      "94/94 [==============================] - 1s 9ms/step - loss: 0.8844 - accuracy: 0.6322 - val_loss: 2.8878 - val_accuracy: 0.0000e+00\n",
      "Epoch 3/20\n",
      "94/94 [==============================] - 1s 8ms/step - loss: 0.8453 - accuracy: 0.6562 - val_loss: 2.4230 - val_accuracy: 0.0000e+00\n",
      "Epoch 4/20\n",
      "94/94 [==============================] - 1s 8ms/step - loss: 0.8004 - accuracy: 0.6766 - val_loss: 2.6578 - val_accuracy: 0.0000e+00\n",
      "Epoch 5/20\n",
      "94/94 [==============================] - 1s 9ms/step - loss: 0.7750 - accuracy: 0.6799 - val_loss: 2.2010 - val_accuracy: 0.0000e+00\n",
      "Epoch 6/20\n",
      "94/94 [==============================] - 1s 9ms/step - loss: 0.8440 - accuracy: 0.6405 - val_loss: 2.8121 - val_accuracy: 0.0000e+00\n",
      "Epoch 7/20\n",
      "94/94 [==============================] - 1s 9ms/step - loss: 0.7396 - accuracy: 0.6849 - val_loss: 2.3655 - val_accuracy: 0.0000e+00\n",
      "Epoch 8/20\n",
      "94/94 [==============================] - 1s 9ms/step - loss: 0.7201 - accuracy: 0.7076 - val_loss: 3.0605 - val_accuracy: 0.0000e+00\n",
      "Epoch 9/20\n",
      "94/94 [==============================] - 1s 9ms/step - loss: 0.6564 - accuracy: 0.7316 - val_loss: 2.6617 - val_accuracy: 0.0090\n",
      "Epoch 10/20\n",
      "94/94 [==============================] - 1s 8ms/step - loss: 0.5996 - accuracy: 0.7629 - val_loss: 2.6799 - val_accuracy: 0.0030\n",
      "Epoch 11/20\n",
      "94/94 [==============================] - 1s 8ms/step - loss: 0.5938 - accuracy: 0.7556 - val_loss: 2.0099 - val_accuracy: 0.2126\n",
      "Epoch 12/20\n",
      "94/94 [==============================] - 1s 9ms/step - loss: 0.5443 - accuracy: 0.7886 - val_loss: 2.8583 - val_accuracy: 0.0569\n",
      "Epoch 13/20\n",
      "94/94 [==============================] - 1s 8ms/step - loss: 0.5648 - accuracy: 0.7799 - val_loss: 2.1301 - val_accuracy: 0.0808\n",
      "Epoch 14/20\n",
      "94/94 [==============================] - 1s 8ms/step - loss: 0.4601 - accuracy: 0.8219 - val_loss: 2.2661 - val_accuracy: 0.2096\n",
      "Epoch 15/20\n",
      "94/94 [==============================] - 1s 8ms/step - loss: 0.4311 - accuracy: 0.8326 - val_loss: 3.0966 - val_accuracy: 0.0210\n",
      "Epoch 16/20\n",
      "94/94 [==============================] - 1s 9ms/step - loss: 0.4243 - accuracy: 0.8393 - val_loss: 2.0768 - val_accuracy: 0.2096\n",
      "Epoch 17/20\n",
      "94/94 [==============================] - 1s 9ms/step - loss: 0.4385 - accuracy: 0.8239 - val_loss: 2.8472 - val_accuracy: 0.0509\n",
      "Epoch 18/20\n",
      "94/94 [==============================] - 1s 8ms/step - loss: 0.3480 - accuracy: 0.8703 - val_loss: 3.1366 - val_accuracy: 0.0778\n",
      "Epoch 19/20\n",
      "94/94 [==============================] - 1s 9ms/step - loss: 0.3501 - accuracy: 0.8716 - val_loss: 2.7882 - val_accuracy: 0.1796\n",
      "Epoch 20/20\n",
      "94/94 [==============================] - 1s 9ms/step - loss: 0.3437 - accuracy: 0.8720 - val_loss: 2.3387 - val_accuracy: 0.2126\n"
     ]
    },
    {
     "output_type": "display_data",
     "data": {
      "text/plain": "HBox(children=(HTML(value=''), FloatProgress(value=1.0, bar_style='info', layout=Layout(width='20px'), max=1.0…",
      "application/vnd.jupyter.widget-view+json": {
       "version_major": 2,
       "version_minor": 0,
       "model_id": "6b11b743c81e4931b523de6a60afe0a5"
      }
     },
     "metadata": {}
    },
    {
     "output_type": "stream",
     "name": "stdout",
     "text": [
      "INFO:tensorflow:Oracle triggered exit\n",
      "INFO:tensorflow:Oracle triggered exit\n",
      "INFO:tensorflow:Oracle triggered exit\n",
      "\n",
      "Epoch 1/20\n",
      "94/94 [==============================] - 1s 10ms/step - loss: 1.0317 - accuracy: 0.5603 - val_loss: 1.9985 - val_accuracy: 0.0030\n",
      "Epoch 2/20\n",
      "94/94 [==============================] - 1s 8ms/step - loss: 0.9275 - accuracy: 0.5923 - val_loss: 2.5130 - val_accuracy: 0.0000e+00\n",
      "Epoch 3/20\n",
      "94/94 [==============================] - 1s 8ms/step - loss: 0.8099 - accuracy: 0.6483 - val_loss: 2.8343 - val_accuracy: 0.0000e+00\n",
      "Epoch 4/20\n",
      "94/94 [==============================] - 1s 9ms/step - loss: 0.8266 - accuracy: 0.6413 - val_loss: 2.7203 - val_accuracy: 0.0000e+00\n",
      "Epoch 5/20\n",
      "94/94 [==============================] - 1s 9ms/step - loss: 0.7864 - accuracy: 0.6583 - val_loss: 2.7701 - val_accuracy: 0.0000e+00\n",
      "Epoch 6/20\n",
      "94/94 [==============================] - 1s 8ms/step - loss: 0.7438 - accuracy: 0.6857 - val_loss: 2.9229 - val_accuracy: 0.0000e+00\n",
      "Epoch 7/20\n",
      "94/94 [==============================] - 1s 9ms/step - loss: 0.7519 - accuracy: 0.6743 - val_loss: 2.7720 - val_accuracy: 0.0030\n",
      "Epoch 8/20\n",
      "94/94 [==============================] - 1s 9ms/step - loss: 0.6959 - accuracy: 0.6993 - val_loss: 2.4612 - val_accuracy: 0.0479\n",
      "Epoch 9/20\n",
      "94/94 [==============================] - 1s 9ms/step - loss: 0.7083 - accuracy: 0.7023 - val_loss: 2.9488 - val_accuracy: 0.0000e+00\n",
      "Epoch 10/20\n",
      "94/94 [==============================] - 1s 9ms/step - loss: 0.6173 - accuracy: 0.7423 - val_loss: 3.1376 - val_accuracy: 0.0090\n",
      "Epoch 11/20\n",
      "94/94 [==============================] - 1s 9ms/step - loss: 0.5754 - accuracy: 0.7553 - val_loss: 2.2319 - val_accuracy: 0.1377\n",
      "Epoch 12/20\n",
      "94/94 [==============================] - 1s 9ms/step - loss: 0.5462 - accuracy: 0.7700 - val_loss: 2.0263 - val_accuracy: 0.1737\n",
      "Epoch 13/20\n",
      "94/94 [==============================] - 1s 8ms/step - loss: 0.5792 - accuracy: 0.7577 - val_loss: 2.0073 - val_accuracy: 0.1228\n",
      "Epoch 14/20\n",
      "94/94 [==============================] - 1s 8ms/step - loss: 0.5097 - accuracy: 0.8003 - val_loss: 2.5468 - val_accuracy: 0.1048\n",
      "Epoch 15/20\n",
      "94/94 [==============================] - 1s 9ms/step - loss: 0.5671 - accuracy: 0.7663 - val_loss: 2.7518 - val_accuracy: 0.0359\n",
      "Epoch 16/20\n",
      "94/94 [==============================] - 1s 9ms/step - loss: 0.5239 - accuracy: 0.7883 - val_loss: 2.1304 - val_accuracy: 0.1707\n",
      "Epoch 17/20\n",
      "94/94 [==============================] - 1s 9ms/step - loss: 0.4446 - accuracy: 0.8247 - val_loss: 3.3214 - val_accuracy: 0.0958\n",
      "Epoch 18/20\n",
      "94/94 [==============================] - 1s 8ms/step - loss: 0.3988 - accuracy: 0.8427 - val_loss: 2.2922 - val_accuracy: 0.2036\n",
      "Epoch 19/20\n",
      "94/94 [==============================] - 1s 9ms/step - loss: 0.4142 - accuracy: 0.8390 - val_loss: 2.7061 - val_accuracy: 0.1287\n",
      "Epoch 20/20\n",
      "94/94 [==============================] - 1s 8ms/step - loss: 0.3318 - accuracy: 0.8740 - val_loss: 2.1371 - val_accuracy: 0.3024\n",
      "\n",
      "Fitting and testing random_forest_clf classifier\n",
      "Fitting 3 folds for each of 3 candidates, totalling 9 fits\n",
      "[Parallel(n_jobs=-1)]: Using backend LokyBackend with 12 concurrent workers.\n",
      "[Parallel(n_jobs=-1)]: Done   6 out of   9 | elapsed:    9.8s remaining:    4.9s\n",
      "[Parallel(n_jobs=-1)]: Done   9 out of   9 | elapsed:   18.9s finished\n",
      "Parameter Optimization Complete for random_forest_clf, best params: \n",
      "{'n_estimators': 200, 'random_state': 42}\n",
      "[Parallel(n_jobs=-1)]: Using backend LokyBackend with 12 concurrent workers.\n",
      "[Parallel(n_jobs=-1)]: Done   3 out of   3 | elapsed:   37.9s finished\n",
      "[Parallel(n_jobs=-1)]: Using backend LokyBackend with 12 concurrent workers.\n",
      "Testing complete for random_forest_clf, results:\n",
      "{'fit_time': array([36.96741915, 37.42922997, 36.94465399]), 'score_time': array([0.11586285, 0.09777021, 0.11373377]), 'test_acc': array([0.69946011, 0.69286143, 0.70168067]), 'test_prec_macro': array([0.70891425, 0.69386642, 0.70388084]), 'test_rec_macro': array([0.69959687, 0.69287702, 0.7015579 ]), 'test_f1_macro': array([0.70183709, 0.69150639, 0.70079587])}\n",
      "Fitting and testing dummy_clf classifier\n",
      "Fitting 3 folds for each of 1 candidates, totalling 3 fits\n",
      "[Parallel(n_jobs=-1)]: Done   3 out of   3 | elapsed:    0.3s finished\n",
      "[Parallel(n_jobs=-1)]: Using backend LokyBackend with 12 concurrent workers.\n",
      "Parameter Optimization Complete for dummy_clf, best params: \n",
      "{'random_state': 42, 'strategy': 'stratified'}\n",
      "Testing complete for dummy_clf, results:\n",
      "{'fit_time': array([0.28354669, 0.28467655, 0.2832427 ]), 'score_time': array([0.00368166, 0.00358176, 0.00363851]), 'test_acc': array([0.12477504, 0.12357528, 0.11404562]), 'test_prec_macro': array([0.12462236, 0.12339538, 0.11454724]), 'test_rec_macro': array([0.12471246, 0.1236083 , 0.11407343]), 'test_f1_macro': array([0.12455713, 0.12339533, 0.11422468])}\n",
      "[Parallel(n_jobs=-1)]: Done   3 out of   3 | elapsed:    0.4s finished\n"
     ]
    }
   ],
   "source": [
    "# Dictionary will contain scores for each of the \n",
    "RANDOM_SEED = 42\n",
    "\n",
    "nested_scores = {}\n",
    "non_nested_scores = {}\n",
    "# Using F1-macro since we have a balanced data set. \n",
    "# https://scikit-learn.org/stable/modules/generated/sklearn.metrics.f1_score.html#sklearn.metrics.f1_score\n",
    "\n",
    "for key, value in clfs.items():\n",
    "    print(f'Fitting and testing {key} classifier')\n",
    "    outer_cv = StratifiedKFold(n_splits=3, shuffle=True, random_state=RANDOM_SEED)\n",
    "    inner_cv = StratifiedKFold(n_splits=3, shuffle=True, random_state=RANDOM_SEED)\n",
    "\n",
    "    # Formats the label (y) as either integer encoding or one-hot encoding for non-cnn clfs \n",
    "    # and cnn-clfs accordingly. \n",
    "    if key == 'tuner':\n",
    "        y_current = y_one_hot\n",
    "        n_jobs_param = 1\n",
    "\n",
    "        nested_scores[key] = {}\n",
    "\n",
    "        for train_idx, test_idx in tqdm_notebook(outer_cv.split(X_scaled, y_int_encode)):\n",
    "            # create fake training target with integer encode to be used for inner split. SKFold does not like one-hot-encoded labels. \n",
    "            fake_train_target_ = y_int_encode[train_idx]\n",
    "            \n",
    "            train_data, test_data = X_scaled[train_idx], X_scaled[test_idx]\n",
    "            train_target, test_target = y_current[train_idx], y_current[test_idx]\n",
    "\n",
    "            # Do parameter tuning with validation/inner cv. \n",
    "\n",
    "            for i, (train_idx_inner, val_idx) in tqdm_notebook(enumerate(inner_cv.split(train_data, fake_train_target_))):\n",
    "                train_data_inner, validate_data = train_data[train_idx_inner], train_data[val_idx]\n",
    "                train_target_inner, validate_target = train_target[train_idx_inner], train_target[val_idx]\n",
    "\n",
    "                value.search(train_data_inner, train_target_inner, epochs=20, validation_data = (validate_data, validate_target))\n",
    "\n",
    "\n",
    "            best_hps = value.get_best_hyperparameters(num_trials = 1)[0]\n",
    "            best_model = value.get_best_models(num_models=1)[0]\n",
    "\n",
    "            history = best_model.fit(train_data, train_target, epochs=20, verbose=1, validation_split=0.1)\n",
    "\n",
    "            predictions = best_model.predict(test_data)\n",
    "\n",
    "            predictions = one_hot_encoder.inverse_transform(predictions)\n",
    "            test_target_oh = one_hot_encoder.inverse_transform(test_target)\n",
    "\n",
    "            # Do testing & append scores\n",
    "            custom_scorer(test_target_oh, predictions, nested_scores[key])\n",
    "    \n",
    "    \n",
    "    else:\n",
    "        y_current = y_int_encode\n",
    "        n_jobs_param = -1\n",
    "\n",
    "        clf = GridSearchCV(estimator=value, \n",
    "                        param_grid=param_grid[key], \n",
    "                        scoring='f1_macro',\n",
    "                        cv=inner_cv, \n",
    "                        n_jobs=n_jobs_param,\n",
    "                        verbose=2,\n",
    "                        refit=True)\n",
    "\n",
    "        clf.fit(X_scaled, y_current)\n",
    "\n",
    "        print(f'Parameter Optimization Complete for {key}, best params: \\n{clf.best_params_}')\n",
    "        nested_scores[key] = cross_validate(\n",
    "            clf,\n",
    "            X=X_scaled,\n",
    "            y=y_current,\n",
    "            scoring=scoring,\n",
    "            cv=outer_cv,\n",
    "            n_jobs=n_jobs_param,\n",
    "            verbose=2,\n",
    "        )\n",
    "\n",
    "        print(f'Testing complete for {key}, results:')\n",
    "        print(nested_scores[key])"
   ]
  },
  {
   "cell_type": "code",
   "execution_count": 13,
   "metadata": {},
   "outputs": [],
   "source": [
    "df_scores = pd.DataFrame(nested_scores)\n",
    "df_scores.to_csv('nest_scores.csv')"
   ]
  },
  {
   "cell_type": "code",
   "execution_count": 36,
   "metadata": {},
   "outputs": [],
   "source": [
    "acc_list = []\n",
    "prec_list = []\n",
    "recall_list = []\n",
    "f1_list = []\n",
    "classifier_list = []\n",
    "for key,value in nested_scores_modified.items():\n",
    "    classifier_list.append(key)\n",
    "    classifier_list.append(key)\n",
    "    classifier_list.append(key)\n",
    "\n",
    "    acc_list.extend(value['test_acc'])\n",
    "    prec_list.extend(value['test_prec_macro'])\n",
    "    recall_list.extend(value['test_rec_macro'])\n",
    "    f1_list.extend(value['test_f1_macro'])\n",
    "\n",
    "df_scores = pd.DataFrame(columns=['Accuracy', 'Precision', 'Recall', 'F1', 'Classifier'])\n",
    "df_scores['Accuracy'] = acc_list\n",
    "df_scores['Precision'] = prec_list\n",
    "df_scores['Recall'] = recall_list\n",
    "df_scores['F1'] = f1_list\n",
    "df_scores['Classifier'] = classifier_list"
   ]
  },
  {
   "cell_type": "code",
   "execution_count": 37,
   "metadata": {},
   "outputs": [
    {
     "output_type": "execute_result",
     "data": {
      "text/plain": [
       "    Accuracy  Precision    Recall        F1         Classifier\n",
       "0   0.406119   0.613239  0.406250  0.347026                knn\n",
       "1   0.398920   0.565140  0.398808  0.347583                knn\n",
       "2   0.417767   0.568896  0.417824  0.372030                knn\n",
       "3   0.573485   0.577599  0.573760  0.571462                gnb\n",
       "4   0.568086   0.569855  0.567874  0.564109                gnb\n",
       "5   0.603241   0.613507  0.603049  0.599349                gnb\n",
       "6   0.584283   0.587388  0.584468  0.582940            svm_ovr\n",
       "7   0.584883   0.591485  0.584822  0.584732            svm_ovr\n",
       "8   0.599640   0.601613  0.599507  0.597956            svm_ovr\n",
       "9   0.704859   0.732323  0.704732  0.684695                cnn\n",
       "10  0.724055   0.740008  0.724213  0.713620                cnn\n",
       "11  0.723890   0.720013  0.723716  0.711370                cnn\n",
       "12  0.699460   0.708914  0.699597  0.701837  random_forest_clf\n",
       "13  0.692861   0.693866  0.692877  0.691506  random_forest_clf\n",
       "14  0.701681   0.703881  0.701558  0.700796  random_forest_clf\n",
       "15  0.124775   0.124622  0.124712  0.124557              dummy\n",
       "16  0.123575   0.123395  0.123608  0.123395              dummy\n",
       "17  0.114046   0.114547  0.114073  0.114225              dummy"
      ],
      "text/html": "<div>\n<style scoped>\n    .dataframe tbody tr th:only-of-type {\n        vertical-align: middle;\n    }\n\n    .dataframe tbody tr th {\n        vertical-align: top;\n    }\n\n    .dataframe thead th {\n        text-align: right;\n    }\n</style>\n<table border=\"1\" class=\"dataframe\">\n  <thead>\n    <tr style=\"text-align: right;\">\n      <th></th>\n      <th>Accuracy</th>\n      <th>Precision</th>\n      <th>Recall</th>\n      <th>F1</th>\n      <th>Classifier</th>\n    </tr>\n  </thead>\n  <tbody>\n    <tr>\n      <th>0</th>\n      <td>0.406119</td>\n      <td>0.613239</td>\n      <td>0.406250</td>\n      <td>0.347026</td>\n      <td>knn</td>\n    </tr>\n    <tr>\n      <th>1</th>\n      <td>0.398920</td>\n      <td>0.565140</td>\n      <td>0.398808</td>\n      <td>0.347583</td>\n      <td>knn</td>\n    </tr>\n    <tr>\n      <th>2</th>\n      <td>0.417767</td>\n      <td>0.568896</td>\n      <td>0.417824</td>\n      <td>0.372030</td>\n      <td>knn</td>\n    </tr>\n    <tr>\n      <th>3</th>\n      <td>0.573485</td>\n      <td>0.577599</td>\n      <td>0.573760</td>\n      <td>0.571462</td>\n      <td>gnb</td>\n    </tr>\n    <tr>\n      <th>4</th>\n      <td>0.568086</td>\n      <td>0.569855</td>\n      <td>0.567874</td>\n      <td>0.564109</td>\n      <td>gnb</td>\n    </tr>\n    <tr>\n      <th>5</th>\n      <td>0.603241</td>\n      <td>0.613507</td>\n      <td>0.603049</td>\n      <td>0.599349</td>\n      <td>gnb</td>\n    </tr>\n    <tr>\n      <th>6</th>\n      <td>0.584283</td>\n      <td>0.587388</td>\n      <td>0.584468</td>\n      <td>0.582940</td>\n      <td>svm_ovr</td>\n    </tr>\n    <tr>\n      <th>7</th>\n      <td>0.584883</td>\n      <td>0.591485</td>\n      <td>0.584822</td>\n      <td>0.584732</td>\n      <td>svm_ovr</td>\n    </tr>\n    <tr>\n      <th>8</th>\n      <td>0.599640</td>\n      <td>0.601613</td>\n      <td>0.599507</td>\n      <td>0.597956</td>\n      <td>svm_ovr</td>\n    </tr>\n    <tr>\n      <th>9</th>\n      <td>0.704859</td>\n      <td>0.732323</td>\n      <td>0.704732</td>\n      <td>0.684695</td>\n      <td>cnn</td>\n    </tr>\n    <tr>\n      <th>10</th>\n      <td>0.724055</td>\n      <td>0.740008</td>\n      <td>0.724213</td>\n      <td>0.713620</td>\n      <td>cnn</td>\n    </tr>\n    <tr>\n      <th>11</th>\n      <td>0.723890</td>\n      <td>0.720013</td>\n      <td>0.723716</td>\n      <td>0.711370</td>\n      <td>cnn</td>\n    </tr>\n    <tr>\n      <th>12</th>\n      <td>0.699460</td>\n      <td>0.708914</td>\n      <td>0.699597</td>\n      <td>0.701837</td>\n      <td>random_forest_clf</td>\n    </tr>\n    <tr>\n      <th>13</th>\n      <td>0.692861</td>\n      <td>0.693866</td>\n      <td>0.692877</td>\n      <td>0.691506</td>\n      <td>random_forest_clf</td>\n    </tr>\n    <tr>\n      <th>14</th>\n      <td>0.701681</td>\n      <td>0.703881</td>\n      <td>0.701558</td>\n      <td>0.700796</td>\n      <td>random_forest_clf</td>\n    </tr>\n    <tr>\n      <th>15</th>\n      <td>0.124775</td>\n      <td>0.124622</td>\n      <td>0.124712</td>\n      <td>0.124557</td>\n      <td>dummy</td>\n    </tr>\n    <tr>\n      <th>16</th>\n      <td>0.123575</td>\n      <td>0.123395</td>\n      <td>0.123608</td>\n      <td>0.123395</td>\n      <td>dummy</td>\n    </tr>\n    <tr>\n      <th>17</th>\n      <td>0.114046</td>\n      <td>0.114547</td>\n      <td>0.114073</td>\n      <td>0.114225</td>\n      <td>dummy</td>\n    </tr>\n  </tbody>\n</table>\n</div>"
     },
     "metadata": {},
     "execution_count": 37
    }
   ],
   "source": [
    "df_scores"
   ]
  },
  {
   "cell_type": "code",
   "execution_count": 59,
   "metadata": {},
   "outputs": [],
   "source": [
    "df_scores_grouped = df_scores.groupby('Classifier')"
   ]
  },
  {
   "cell_type": "code",
   "execution_count": 49,
   "metadata": {},
   "outputs": [],
   "source": [
    "df_scores_aggregate = df_scores_grouped.agg([np.mean, np.std])"
   ]
  },
  {
   "cell_type": "code",
   "execution_count": 85,
   "metadata": {},
   "outputs": [
    {
     "output_type": "execute_result",
     "data": {
      "text/plain": [
       "15    0.124775\n",
       "16    0.123575\n",
       "17    0.114046\n",
       "Name: Accuracy, dtype: float64"
      ]
     },
     "metadata": {},
     "execution_count": 85
    }
   ],
   "source": [
    "df_scores_grouped.get_group('dummy')['Accuracy']"
   ]
  },
  {
   "cell_type": "code",
   "execution_count": 54,
   "metadata": {},
   "outputs": [],
   "source": [
    "df_scores_aggregate.to_csv('aggregate_scores.csv')"
   ]
  },
  {
   "cell_type": "code",
   "execution_count": 60,
   "metadata": {},
   "outputs": [],
   "source": [
    "df_score_mean = df_scores_grouped.mean()\n",
    "df_score_std = df_scores_grouped.std()"
   ]
  },
  {
   "cell_type": "code",
   "execution_count": 76,
   "metadata": {},
   "outputs": [
    {
     "output_type": "execute_result",
     "data": {
      "text/plain": [
       "array(['cnn', 'dummy', 'gnb', 'knn', 'random_forest_clf', 'svm_ovr'],\n",
       "      dtype=object)"
      ]
     },
     "metadata": {},
     "execution_count": 76
    }
   ],
   "source": []
  },
  {
   "cell_type": "code",
   "execution_count": 82,
   "metadata": {},
   "outputs": [
    {
     "output_type": "display_data",
     "data": {
      "text/plain": "<Figure size 1080x576 with 1 Axes>",
      "image/svg+xml": "<?xml version=\"1.0\" encoding=\"utf-8\" standalone=\"no\"?>\n<!DOCTYPE svg PUBLIC \"-//W3C//DTD SVG 1.1//EN\"\n  \"http://www.w3.org/Graphics/SVG/1.1/DTD/svg11.dtd\">\n<!-- Created with matplotlib (https://matplotlib.org/) -->\n<svg height=\"562.2575pt\" version=\"1.1\" viewBox=\"0 0 1068.598437 562.2575\" width=\"1068.598437pt\" xmlns=\"http://www.w3.org/2000/svg\" xmlns:xlink=\"http://www.w3.org/1999/xlink\">\n <metadata>\n  <rdf:RDF xmlns:cc=\"http://creativecommons.org/ns#\" xmlns:dc=\"http://purl.org/dc/elements/1.1/\" xmlns:rdf=\"http://www.w3.org/1999/02/22-rdf-syntax-ns#\">\n   <cc:Work>\n    <dc:type rdf:resource=\"http://purl.org/dc/dcmitype/StillImage\"/>\n    <dc:date>2020-11-30T18:35:50.217532</dc:date>\n    <dc:format>image/svg+xml</dc:format>\n    <dc:creator>\n     <cc:Agent>\n      <dc:title>Matplotlib v3.3.2, https://matplotlib.org/</dc:title>\n     </cc:Agent>\n    </dc:creator>\n   </cc:Work>\n  </rdf:RDF>\n </metadata>\n <defs>\n  <style type=\"text/css\">*{stroke-linecap:butt;stroke-linejoin:round;}</style>\n </defs>\n <g id=\"figure_1\">\n  <g id=\"patch_1\">\n   <path d=\"M 0 562.2575 \nL 1068.598437 562.2575 \nL 1068.598437 0 \nL 0 0 \nz\n\" style=\"fill:#ffffff;\"/>\n  </g>\n  <g id=\"axes_1\">\n   <g id=\"patch_2\">\n    <path d=\"M 34.193438 518.991875 \nL 1061.398438 518.991875 \nL 1061.398438 22.318125 \nL 34.193438 22.318125 \nz\n\" style=\"fill:#eaeaf2;\"/>\n   </g>\n   <g id=\"matplotlib.axis_1\">\n    <g id=\"xtick_1\">\n     <g id=\"line2d_1\">\n      <path clip-path=\"url(#p2bd1b0c0b4)\" d=\"M 119.793854 518.991875 \nL 119.793854 22.318125 \n\" style=\"fill:none;stroke:#ffffff;stroke-linecap:round;\"/>\n     </g>\n     <g id=\"text_1\">\n      <!-- cnn -->\n      <g style=\"fill:#262626;\" transform=\"translate(109.798464 536.850156)scale(0.11 -0.11)\">\n       <defs>\n        <path d=\"M 48.78125 52.59375 \nL 48.78125 44.1875 \nQ 44.96875 46.296875 41.140625 47.34375 \nQ 37.3125 48.390625 33.40625 48.390625 \nQ 24.65625 48.390625 19.8125 42.84375 \nQ 14.984375 37.3125 14.984375 27.296875 \nQ 14.984375 17.28125 19.8125 11.734375 \nQ 24.65625 6.203125 33.40625 6.203125 \nQ 37.3125 6.203125 41.140625 7.25 \nQ 44.96875 8.296875 48.78125 10.40625 \nL 48.78125 2.09375 \nQ 45.015625 0.34375 40.984375 -0.53125 \nQ 36.96875 -1.421875 32.421875 -1.421875 \nQ 20.0625 -1.421875 12.78125 6.34375 \nQ 5.515625 14.109375 5.515625 27.296875 \nQ 5.515625 40.671875 12.859375 48.328125 \nQ 20.21875 56 33.015625 56 \nQ 37.15625 56 41.109375 55.140625 \nQ 45.0625 54.296875 48.78125 52.59375 \nz\n\" id=\"DejaVuSans-99\"/>\n        <path d=\"M 54.890625 33.015625 \nL 54.890625 0 \nL 45.90625 0 \nL 45.90625 32.71875 \nQ 45.90625 40.484375 42.875 44.328125 \nQ 39.84375 48.1875 33.796875 48.1875 \nQ 26.515625 48.1875 22.3125 43.546875 \nQ 18.109375 38.921875 18.109375 30.90625 \nL 18.109375 0 \nL 9.078125 0 \nL 9.078125 54.6875 \nL 18.109375 54.6875 \nL 18.109375 46.1875 \nQ 21.34375 51.125 25.703125 53.5625 \nQ 30.078125 56 35.796875 56 \nQ 45.21875 56 50.046875 50.171875 \nQ 54.890625 44.34375 54.890625 33.015625 \nz\n\" id=\"DejaVuSans-110\"/>\n       </defs>\n       <use xlink:href=\"#DejaVuSans-99\"/>\n       <use x=\"54.980469\" xlink:href=\"#DejaVuSans-110\"/>\n       <use x=\"118.359375\" xlink:href=\"#DejaVuSans-110\"/>\n      </g>\n     </g>\n    </g>\n    <g id=\"xtick_2\">\n     <g id=\"line2d_2\">\n      <path clip-path=\"url(#p2bd1b0c0b4)\" d=\"M 290.994687 518.991875 \nL 290.994687 22.318125 \n\" style=\"fill:none;stroke:#ffffff;stroke-linecap:round;\"/>\n     </g>\n     <g id=\"text_2\">\n      <!-- dummy -->\n      <g style=\"fill:#262626;\" transform=\"translate(270.047422 536.850156)scale(0.11 -0.11)\">\n       <defs>\n        <path d=\"M 45.40625 46.390625 \nL 45.40625 75.984375 \nL 54.390625 75.984375 \nL 54.390625 0 \nL 45.40625 0 \nL 45.40625 8.203125 \nQ 42.578125 3.328125 38.25 0.953125 \nQ 33.9375 -1.421875 27.875 -1.421875 \nQ 17.96875 -1.421875 11.734375 6.484375 \nQ 5.515625 14.40625 5.515625 27.296875 \nQ 5.515625 40.1875 11.734375 48.09375 \nQ 17.96875 56 27.875 56 \nQ 33.9375 56 38.25 53.625 \nQ 42.578125 51.265625 45.40625 46.390625 \nz\nM 14.796875 27.296875 \nQ 14.796875 17.390625 18.875 11.75 \nQ 22.953125 6.109375 30.078125 6.109375 \nQ 37.203125 6.109375 41.296875 11.75 \nQ 45.40625 17.390625 45.40625 27.296875 \nQ 45.40625 37.203125 41.296875 42.84375 \nQ 37.203125 48.484375 30.078125 48.484375 \nQ 22.953125 48.484375 18.875 42.84375 \nQ 14.796875 37.203125 14.796875 27.296875 \nz\n\" id=\"DejaVuSans-100\"/>\n        <path d=\"M 8.5 21.578125 \nL 8.5 54.6875 \nL 17.484375 54.6875 \nL 17.484375 21.921875 \nQ 17.484375 14.15625 20.5 10.265625 \nQ 23.53125 6.390625 29.59375 6.390625 \nQ 36.859375 6.390625 41.078125 11.03125 \nQ 45.3125 15.671875 45.3125 23.6875 \nL 45.3125 54.6875 \nL 54.296875 54.6875 \nL 54.296875 0 \nL 45.3125 0 \nL 45.3125 8.40625 \nQ 42.046875 3.421875 37.71875 1 \nQ 33.40625 -1.421875 27.6875 -1.421875 \nQ 18.265625 -1.421875 13.375 4.4375 \nQ 8.5 10.296875 8.5 21.578125 \nz\nM 31.109375 56 \nz\n\" id=\"DejaVuSans-117\"/>\n        <path d=\"M 52 44.1875 \nQ 55.375 50.25 60.0625 53.125 \nQ 64.75 56 71.09375 56 \nQ 79.640625 56 84.28125 50.015625 \nQ 88.921875 44.046875 88.921875 33.015625 \nL 88.921875 0 \nL 79.890625 0 \nL 79.890625 32.71875 \nQ 79.890625 40.578125 77.09375 44.375 \nQ 74.3125 48.1875 68.609375 48.1875 \nQ 61.625 48.1875 57.5625 43.546875 \nQ 53.515625 38.921875 53.515625 30.90625 \nL 53.515625 0 \nL 44.484375 0 \nL 44.484375 32.71875 \nQ 44.484375 40.625 41.703125 44.40625 \nQ 38.921875 48.1875 33.109375 48.1875 \nQ 26.21875 48.1875 22.15625 43.53125 \nQ 18.109375 38.875 18.109375 30.90625 \nL 18.109375 0 \nL 9.078125 0 \nL 9.078125 54.6875 \nL 18.109375 54.6875 \nL 18.109375 46.1875 \nQ 21.1875 51.21875 25.484375 53.609375 \nQ 29.78125 56 35.6875 56 \nQ 41.65625 56 45.828125 52.96875 \nQ 50 49.953125 52 44.1875 \nz\n\" id=\"DejaVuSans-109\"/>\n        <path d=\"M 32.171875 -5.078125 \nQ 28.375 -14.84375 24.75 -17.8125 \nQ 21.140625 -20.796875 15.09375 -20.796875 \nL 7.90625 -20.796875 \nL 7.90625 -13.28125 \nL 13.1875 -13.28125 \nQ 16.890625 -13.28125 18.9375 -11.515625 \nQ 21 -9.765625 23.484375 -3.21875 \nL 25.09375 0.875 \nL 2.984375 54.6875 \nL 12.5 54.6875 \nL 29.59375 11.921875 \nL 46.6875 54.6875 \nL 56.203125 54.6875 \nz\n\" id=\"DejaVuSans-121\"/>\n       </defs>\n       <use xlink:href=\"#DejaVuSans-100\"/>\n       <use x=\"63.476562\" xlink:href=\"#DejaVuSans-117\"/>\n       <use x=\"126.855469\" xlink:href=\"#DejaVuSans-109\"/>\n       <use x=\"224.267578\" xlink:href=\"#DejaVuSans-109\"/>\n       <use x=\"321.679688\" xlink:href=\"#DejaVuSans-121\"/>\n      </g>\n     </g>\n    </g>\n    <g id=\"xtick_3\">\n     <g id=\"line2d_3\">\n      <path clip-path=\"url(#p2bd1b0c0b4)\" d=\"M 462.195521 518.991875 \nL 462.195521 22.318125 \n\" style=\"fill:none;stroke:#ffffff;stroke-linecap:round;\"/>\n     </g>\n     <g id=\"text_3\">\n      <!-- gnb -->\n      <g style=\"fill:#262626;\" transform=\"translate(451.726615 536.850156)scale(0.11 -0.11)\">\n       <defs>\n        <path d=\"M 45.40625 27.984375 \nQ 45.40625 37.75 41.375 43.109375 \nQ 37.359375 48.484375 30.078125 48.484375 \nQ 22.859375 48.484375 18.828125 43.109375 \nQ 14.796875 37.75 14.796875 27.984375 \nQ 14.796875 18.265625 18.828125 12.890625 \nQ 22.859375 7.515625 30.078125 7.515625 \nQ 37.359375 7.515625 41.375 12.890625 \nQ 45.40625 18.265625 45.40625 27.984375 \nz\nM 54.390625 6.78125 \nQ 54.390625 -7.171875 48.1875 -13.984375 \nQ 42 -20.796875 29.203125 -20.796875 \nQ 24.46875 -20.796875 20.265625 -20.09375 \nQ 16.0625 -19.390625 12.109375 -17.921875 \nL 12.109375 -9.1875 \nQ 16.0625 -11.328125 19.921875 -12.34375 \nQ 23.78125 -13.375 27.78125 -13.375 \nQ 36.625 -13.375 41.015625 -8.765625 \nQ 45.40625 -4.15625 45.40625 5.171875 \nL 45.40625 9.625 \nQ 42.625 4.78125 38.28125 2.390625 \nQ 33.9375 0 27.875 0 \nQ 17.828125 0 11.671875 7.65625 \nQ 5.515625 15.328125 5.515625 27.984375 \nQ 5.515625 40.671875 11.671875 48.328125 \nQ 17.828125 56 27.875 56 \nQ 33.9375 56 38.28125 53.609375 \nQ 42.625 51.21875 45.40625 46.390625 \nL 45.40625 54.6875 \nL 54.390625 54.6875 \nz\n\" id=\"DejaVuSans-103\"/>\n        <path d=\"M 48.6875 27.296875 \nQ 48.6875 37.203125 44.609375 42.84375 \nQ 40.53125 48.484375 33.40625 48.484375 \nQ 26.265625 48.484375 22.1875 42.84375 \nQ 18.109375 37.203125 18.109375 27.296875 \nQ 18.109375 17.390625 22.1875 11.75 \nQ 26.265625 6.109375 33.40625 6.109375 \nQ 40.53125 6.109375 44.609375 11.75 \nQ 48.6875 17.390625 48.6875 27.296875 \nz\nM 18.109375 46.390625 \nQ 20.953125 51.265625 25.265625 53.625 \nQ 29.59375 56 35.59375 56 \nQ 45.5625 56 51.78125 48.09375 \nQ 58.015625 40.1875 58.015625 27.296875 \nQ 58.015625 14.40625 51.78125 6.484375 \nQ 45.5625 -1.421875 35.59375 -1.421875 \nQ 29.59375 -1.421875 25.265625 0.953125 \nQ 20.953125 3.328125 18.109375 8.203125 \nL 18.109375 0 \nL 9.078125 0 \nL 9.078125 75.984375 \nL 18.109375 75.984375 \nz\n\" id=\"DejaVuSans-98\"/>\n       </defs>\n       <use xlink:href=\"#DejaVuSans-103\"/>\n       <use x=\"63.476562\" xlink:href=\"#DejaVuSans-110\"/>\n       <use x=\"126.855469\" xlink:href=\"#DejaVuSans-98\"/>\n      </g>\n     </g>\n    </g>\n    <g id=\"xtick_4\">\n     <g id=\"line2d_4\">\n      <path clip-path=\"url(#p2bd1b0c0b4)\" d=\"M 633.396354 518.991875 \nL 633.396354 22.318125 \n\" style=\"fill:none;stroke:#ffffff;stroke-linecap:round;\"/>\n     </g>\n     <g id=\"text_4\">\n      <!-- knn -->\n      <g style=\"fill:#262626;\" transform=\"translate(623.24026 536.850156)scale(0.11 -0.11)\">\n       <defs>\n        <path d=\"M 9.078125 75.984375 \nL 18.109375 75.984375 \nL 18.109375 31.109375 \nL 44.921875 54.6875 \nL 56.390625 54.6875 \nL 27.390625 29.109375 \nL 57.625 0 \nL 45.90625 0 \nL 18.109375 26.703125 \nL 18.109375 0 \nL 9.078125 0 \nz\n\" id=\"DejaVuSans-107\"/>\n       </defs>\n       <use xlink:href=\"#DejaVuSans-107\"/>\n       <use x=\"57.910156\" xlink:href=\"#DejaVuSans-110\"/>\n       <use x=\"121.289062\" xlink:href=\"#DejaVuSans-110\"/>\n      </g>\n     </g>\n    </g>\n    <g id=\"xtick_5\">\n     <g id=\"line2d_5\">\n      <path clip-path=\"url(#p2bd1b0c0b4)\" d=\"M 804.597187 518.991875 \nL 804.597187 22.318125 \n\" style=\"fill:none;stroke:#ffffff;stroke-linecap:round;\"/>\n     </g>\n     <g id=\"text_5\">\n      <!-- random_forest_clf -->\n      <g style=\"fill:#262626;\" transform=\"translate(755.433203 536.850156)scale(0.11 -0.11)\">\n       <defs>\n        <path d=\"M 41.109375 46.296875 \nQ 39.59375 47.171875 37.8125 47.578125 \nQ 36.03125 48 33.890625 48 \nQ 26.265625 48 22.1875 43.046875 \nQ 18.109375 38.09375 18.109375 28.8125 \nL 18.109375 0 \nL 9.078125 0 \nL 9.078125 54.6875 \nL 18.109375 54.6875 \nL 18.109375 46.1875 \nQ 20.953125 51.171875 25.484375 53.578125 \nQ 30.03125 56 36.53125 56 \nQ 37.453125 56 38.578125 55.875 \nQ 39.703125 55.765625 41.0625 55.515625 \nz\n\" id=\"DejaVuSans-114\"/>\n        <path d=\"M 34.28125 27.484375 \nQ 23.390625 27.484375 19.1875 25 \nQ 14.984375 22.515625 14.984375 16.5 \nQ 14.984375 11.71875 18.140625 8.90625 \nQ 21.296875 6.109375 26.703125 6.109375 \nQ 34.1875 6.109375 38.703125 11.40625 \nQ 43.21875 16.703125 43.21875 25.484375 \nL 43.21875 27.484375 \nz\nM 52.203125 31.203125 \nL 52.203125 0 \nL 43.21875 0 \nL 43.21875 8.296875 \nQ 40.140625 3.328125 35.546875 0.953125 \nQ 30.953125 -1.421875 24.3125 -1.421875 \nQ 15.921875 -1.421875 10.953125 3.296875 \nQ 6 8.015625 6 15.921875 \nQ 6 25.140625 12.171875 29.828125 \nQ 18.359375 34.515625 30.609375 34.515625 \nL 43.21875 34.515625 \nL 43.21875 35.40625 \nQ 43.21875 41.609375 39.140625 45 \nQ 35.0625 48.390625 27.6875 48.390625 \nQ 23 48.390625 18.546875 47.265625 \nQ 14.109375 46.140625 10.015625 43.890625 \nL 10.015625 52.203125 \nQ 14.9375 54.109375 19.578125 55.046875 \nQ 24.21875 56 28.609375 56 \nQ 40.484375 56 46.34375 49.84375 \nQ 52.203125 43.703125 52.203125 31.203125 \nz\n\" id=\"DejaVuSans-97\"/>\n        <path d=\"M 30.609375 48.390625 \nQ 23.390625 48.390625 19.1875 42.75 \nQ 14.984375 37.109375 14.984375 27.296875 \nQ 14.984375 17.484375 19.15625 11.84375 \nQ 23.34375 6.203125 30.609375 6.203125 \nQ 37.796875 6.203125 41.984375 11.859375 \nQ 46.1875 17.53125 46.1875 27.296875 \nQ 46.1875 37.015625 41.984375 42.703125 \nQ 37.796875 48.390625 30.609375 48.390625 \nz\nM 30.609375 56 \nQ 42.328125 56 49.015625 48.375 \nQ 55.71875 40.765625 55.71875 27.296875 \nQ 55.71875 13.875 49.015625 6.21875 \nQ 42.328125 -1.421875 30.609375 -1.421875 \nQ 18.84375 -1.421875 12.171875 6.21875 \nQ 5.515625 13.875 5.515625 27.296875 \nQ 5.515625 40.765625 12.171875 48.375 \nQ 18.84375 56 30.609375 56 \nz\n\" id=\"DejaVuSans-111\"/>\n        <path d=\"M 50.984375 -16.609375 \nL 50.984375 -23.578125 \nL -0.984375 -23.578125 \nL -0.984375 -16.609375 \nz\n\" id=\"DejaVuSans-95\"/>\n        <path d=\"M 37.109375 75.984375 \nL 37.109375 68.5 \nL 28.515625 68.5 \nQ 23.6875 68.5 21.796875 66.546875 \nQ 19.921875 64.59375 19.921875 59.515625 \nL 19.921875 54.6875 \nL 34.71875 54.6875 \nL 34.71875 47.703125 \nL 19.921875 47.703125 \nL 19.921875 0 \nL 10.890625 0 \nL 10.890625 47.703125 \nL 2.296875 47.703125 \nL 2.296875 54.6875 \nL 10.890625 54.6875 \nL 10.890625 58.5 \nQ 10.890625 67.625 15.140625 71.796875 \nQ 19.390625 75.984375 28.609375 75.984375 \nz\n\" id=\"DejaVuSans-102\"/>\n        <path d=\"M 56.203125 29.59375 \nL 56.203125 25.203125 \nL 14.890625 25.203125 \nQ 15.484375 15.921875 20.484375 11.0625 \nQ 25.484375 6.203125 34.421875 6.203125 \nQ 39.59375 6.203125 44.453125 7.46875 \nQ 49.3125 8.734375 54.109375 11.28125 \nL 54.109375 2.78125 \nQ 49.265625 0.734375 44.1875 -0.34375 \nQ 39.109375 -1.421875 33.890625 -1.421875 \nQ 20.796875 -1.421875 13.15625 6.1875 \nQ 5.515625 13.8125 5.515625 26.8125 \nQ 5.515625 40.234375 12.765625 48.109375 \nQ 20.015625 56 32.328125 56 \nQ 43.359375 56 49.78125 48.890625 \nQ 56.203125 41.796875 56.203125 29.59375 \nz\nM 47.21875 32.234375 \nQ 47.125 39.59375 43.09375 43.984375 \nQ 39.0625 48.390625 32.421875 48.390625 \nQ 24.90625 48.390625 20.390625 44.140625 \nQ 15.875 39.890625 15.1875 32.171875 \nz\n\" id=\"DejaVuSans-101\"/>\n        <path d=\"M 44.28125 53.078125 \nL 44.28125 44.578125 \nQ 40.484375 46.53125 36.375 47.5 \nQ 32.28125 48.484375 27.875 48.484375 \nQ 21.1875 48.484375 17.84375 46.4375 \nQ 14.5 44.390625 14.5 40.28125 \nQ 14.5 37.15625 16.890625 35.375 \nQ 19.28125 33.59375 26.515625 31.984375 \nL 29.59375 31.296875 \nQ 39.15625 29.25 43.1875 25.515625 \nQ 47.21875 21.78125 47.21875 15.09375 \nQ 47.21875 7.46875 41.1875 3.015625 \nQ 35.15625 -1.421875 24.609375 -1.421875 \nQ 20.21875 -1.421875 15.453125 -0.5625 \nQ 10.6875 0.296875 5.421875 2 \nL 5.421875 11.28125 \nQ 10.40625 8.6875 15.234375 7.390625 \nQ 20.0625 6.109375 24.8125 6.109375 \nQ 31.15625 6.109375 34.5625 8.28125 \nQ 37.984375 10.453125 37.984375 14.40625 \nQ 37.984375 18.0625 35.515625 20.015625 \nQ 33.0625 21.96875 24.703125 23.78125 \nL 21.578125 24.515625 \nQ 13.234375 26.265625 9.515625 29.90625 \nQ 5.8125 33.546875 5.8125 39.890625 \nQ 5.8125 47.609375 11.28125 51.796875 \nQ 16.75 56 26.8125 56 \nQ 31.78125 56 36.171875 55.265625 \nQ 40.578125 54.546875 44.28125 53.078125 \nz\n\" id=\"DejaVuSans-115\"/>\n        <path d=\"M 18.3125 70.21875 \nL 18.3125 54.6875 \nL 36.8125 54.6875 \nL 36.8125 47.703125 \nL 18.3125 47.703125 \nL 18.3125 18.015625 \nQ 18.3125 11.328125 20.140625 9.421875 \nQ 21.96875 7.515625 27.59375 7.515625 \nL 36.8125 7.515625 \nL 36.8125 0 \nL 27.59375 0 \nQ 17.1875 0 13.234375 3.875 \nQ 9.28125 7.765625 9.28125 18.015625 \nL 9.28125 47.703125 \nL 2.6875 47.703125 \nL 2.6875 54.6875 \nL 9.28125 54.6875 \nL 9.28125 70.21875 \nz\n\" id=\"DejaVuSans-116\"/>\n        <path d=\"M 9.421875 75.984375 \nL 18.40625 75.984375 \nL 18.40625 0 \nL 9.421875 0 \nz\n\" id=\"DejaVuSans-108\"/>\n       </defs>\n       <use xlink:href=\"#DejaVuSans-114\"/>\n       <use x=\"41.113281\" xlink:href=\"#DejaVuSans-97\"/>\n       <use x=\"102.392578\" xlink:href=\"#DejaVuSans-110\"/>\n       <use x=\"165.771484\" xlink:href=\"#DejaVuSans-100\"/>\n       <use x=\"229.248047\" xlink:href=\"#DejaVuSans-111\"/>\n       <use x=\"290.429688\" xlink:href=\"#DejaVuSans-109\"/>\n       <use x=\"387.841797\" xlink:href=\"#DejaVuSans-95\"/>\n       <use x=\"437.841797\" xlink:href=\"#DejaVuSans-102\"/>\n       <use x=\"473.046875\" xlink:href=\"#DejaVuSans-111\"/>\n       <use x=\"534.228516\" xlink:href=\"#DejaVuSans-114\"/>\n       <use x=\"573.091797\" xlink:href=\"#DejaVuSans-101\"/>\n       <use x=\"634.615234\" xlink:href=\"#DejaVuSans-115\"/>\n       <use x=\"686.714844\" xlink:href=\"#DejaVuSans-116\"/>\n       <use x=\"725.923828\" xlink:href=\"#DejaVuSans-95\"/>\n       <use x=\"775.923828\" xlink:href=\"#DejaVuSans-99\"/>\n       <use x=\"830.904297\" xlink:href=\"#DejaVuSans-108\"/>\n       <use x=\"858.6875\" xlink:href=\"#DejaVuSans-102\"/>\n      </g>\n     </g>\n    </g>\n    <g id=\"xtick_6\">\n     <g id=\"line2d_6\">\n      <path clip-path=\"url(#p2bd1b0c0b4)\" d=\"M 975.798021 518.991875 \nL 975.798021 22.318125 \n\" style=\"fill:none;stroke:#ffffff;stroke-linecap:round;\"/>\n     </g>\n     <g id=\"text_6\">\n      <!-- svm_ovr -->\n      <g style=\"fill:#262626;\" transform=\"translate(952.688568 536.544219)scale(0.11 -0.11)\">\n       <defs>\n        <path d=\"M 2.984375 54.6875 \nL 12.5 54.6875 \nL 29.59375 8.796875 \nL 46.6875 54.6875 \nL 56.203125 54.6875 \nL 35.6875 0 \nL 23.484375 0 \nz\n\" id=\"DejaVuSans-118\"/>\n       </defs>\n       <use xlink:href=\"#DejaVuSans-115\"/>\n       <use x=\"52.099609\" xlink:href=\"#DejaVuSans-118\"/>\n       <use x=\"111.279297\" xlink:href=\"#DejaVuSans-109\"/>\n       <use x=\"208.691406\" xlink:href=\"#DejaVuSans-95\"/>\n       <use x=\"258.691406\" xlink:href=\"#DejaVuSans-111\"/>\n       <use x=\"319.873047\" xlink:href=\"#DejaVuSans-118\"/>\n       <use x=\"379.052734\" xlink:href=\"#DejaVuSans-114\"/>\n      </g>\n     </g>\n    </g>\n    <g id=\"text_7\">\n     <!-- Classifier -->\n     <g style=\"fill:#262626;\" transform=\"translate(520.406875 552.561875)scale(0.12 -0.12)\">\n      <defs>\n       <path d=\"M 64.40625 67.28125 \nL 64.40625 56.890625 \nQ 59.421875 61.53125 53.78125 63.8125 \nQ 48.140625 66.109375 41.796875 66.109375 \nQ 29.296875 66.109375 22.65625 58.46875 \nQ 16.015625 50.828125 16.015625 36.375 \nQ 16.015625 21.96875 22.65625 14.328125 \nQ 29.296875 6.6875 41.796875 6.6875 \nQ 48.140625 6.6875 53.78125 8.984375 \nQ 59.421875 11.28125 64.40625 15.921875 \nL 64.40625 5.609375 \nQ 59.234375 2.09375 53.4375 0.328125 \nQ 47.65625 -1.421875 41.21875 -1.421875 \nQ 24.65625 -1.421875 15.125 8.703125 \nQ 5.609375 18.84375 5.609375 36.375 \nQ 5.609375 53.953125 15.125 64.078125 \nQ 24.65625 74.21875 41.21875 74.21875 \nQ 47.75 74.21875 53.53125 72.484375 \nQ 59.328125 70.75 64.40625 67.28125 \nz\n\" id=\"DejaVuSans-67\"/>\n       <path d=\"M 9.421875 54.6875 \nL 18.40625 54.6875 \nL 18.40625 0 \nL 9.421875 0 \nz\nM 9.421875 75.984375 \nL 18.40625 75.984375 \nL 18.40625 64.59375 \nL 9.421875 64.59375 \nz\n\" id=\"DejaVuSans-105\"/>\n      </defs>\n      <use xlink:href=\"#DejaVuSans-67\"/>\n      <use x=\"69.824219\" xlink:href=\"#DejaVuSans-108\"/>\n      <use x=\"97.607422\" xlink:href=\"#DejaVuSans-97\"/>\n      <use x=\"158.886719\" xlink:href=\"#DejaVuSans-115\"/>\n      <use x=\"210.986328\" xlink:href=\"#DejaVuSans-115\"/>\n      <use x=\"263.085938\" xlink:href=\"#DejaVuSans-105\"/>\n      <use x=\"290.869141\" xlink:href=\"#DejaVuSans-102\"/>\n      <use x=\"326.074219\" xlink:href=\"#DejaVuSans-105\"/>\n      <use x=\"353.857422\" xlink:href=\"#DejaVuSans-101\"/>\n      <use x=\"415.380859\" xlink:href=\"#DejaVuSans-114\"/>\n     </g>\n    </g>\n   </g>\n   <g id=\"matplotlib.axis_2\">\n    <g id=\"ytick_1\">\n     <g id=\"line2d_7\">\n      <path clip-path=\"url(#p2bd1b0c0b4)\" d=\"M 34.193438 518.991875 \nL 1061.398438 518.991875 \n\" style=\"fill:none;stroke:#ffffff;stroke-linecap:round;\"/>\n     </g>\n     <g id=\"text_8\">\n      <!-- 0.0 -->\n      <g style=\"fill:#262626;\" transform=\"translate(7.2 523.171016)scale(0.11 -0.11)\">\n       <defs>\n        <path d=\"M 31.78125 66.40625 \nQ 24.171875 66.40625 20.328125 58.90625 \nQ 16.5 51.421875 16.5 36.375 \nQ 16.5 21.390625 20.328125 13.890625 \nQ 24.171875 6.390625 31.78125 6.390625 \nQ 39.453125 6.390625 43.28125 13.890625 \nQ 47.125 21.390625 47.125 36.375 \nQ 47.125 51.421875 43.28125 58.90625 \nQ 39.453125 66.40625 31.78125 66.40625 \nz\nM 31.78125 74.21875 \nQ 44.046875 74.21875 50.515625 64.515625 \nQ 56.984375 54.828125 56.984375 36.375 \nQ 56.984375 17.96875 50.515625 8.265625 \nQ 44.046875 -1.421875 31.78125 -1.421875 \nQ 19.53125 -1.421875 13.0625 8.265625 \nQ 6.59375 17.96875 6.59375 36.375 \nQ 6.59375 54.828125 13.0625 64.515625 \nQ 19.53125 74.21875 31.78125 74.21875 \nz\n\" id=\"DejaVuSans-48\"/>\n        <path d=\"M 10.6875 12.40625 \nL 21 12.40625 \nL 21 0 \nL 10.6875 0 \nz\n\" id=\"DejaVuSans-46\"/>\n       </defs>\n       <use xlink:href=\"#DejaVuSans-48\"/>\n       <use x=\"63.623047\" xlink:href=\"#DejaVuSans-46\"/>\n       <use x=\"95.410156\" xlink:href=\"#DejaVuSans-48\"/>\n      </g>\n     </g>\n    </g>\n    <g id=\"ytick_2\">\n     <g id=\"line2d_8\">\n      <path clip-path=\"url(#p2bd1b0c0b4)\" d=\"M 34.193438 419.657125 \nL 1061.398438 419.657125 \n\" style=\"fill:none;stroke:#ffffff;stroke-linecap:round;\"/>\n     </g>\n     <g id=\"text_9\">\n      <!-- 0.2 -->\n      <g style=\"fill:#262626;\" transform=\"translate(7.2 423.836266)scale(0.11 -0.11)\">\n       <defs>\n        <path d=\"M 19.1875 8.296875 \nL 53.609375 8.296875 \nL 53.609375 0 \nL 7.328125 0 \nL 7.328125 8.296875 \nQ 12.9375 14.109375 22.625 23.890625 \nQ 32.328125 33.6875 34.8125 36.53125 \nQ 39.546875 41.84375 41.421875 45.53125 \nQ 43.3125 49.21875 43.3125 52.78125 \nQ 43.3125 58.59375 39.234375 62.25 \nQ 35.15625 65.921875 28.609375 65.921875 \nQ 23.96875 65.921875 18.8125 64.3125 \nQ 13.671875 62.703125 7.8125 59.421875 \nL 7.8125 69.390625 \nQ 13.765625 71.78125 18.9375 73 \nQ 24.125 74.21875 28.421875 74.21875 \nQ 39.75 74.21875 46.484375 68.546875 \nQ 53.21875 62.890625 53.21875 53.421875 \nQ 53.21875 48.921875 51.53125 44.890625 \nQ 49.859375 40.875 45.40625 35.40625 \nQ 44.1875 33.984375 37.640625 27.21875 \nQ 31.109375 20.453125 19.1875 8.296875 \nz\n\" id=\"DejaVuSans-50\"/>\n       </defs>\n       <use xlink:href=\"#DejaVuSans-48\"/>\n       <use x=\"63.623047\" xlink:href=\"#DejaVuSans-46\"/>\n       <use x=\"95.410156\" xlink:href=\"#DejaVuSans-50\"/>\n      </g>\n     </g>\n    </g>\n    <g id=\"ytick_3\">\n     <g id=\"line2d_9\">\n      <path clip-path=\"url(#p2bd1b0c0b4)\" d=\"M 34.193438 320.322375 \nL 1061.398438 320.322375 \n\" style=\"fill:none;stroke:#ffffff;stroke-linecap:round;\"/>\n     </g>\n     <g id=\"text_10\">\n      <!-- 0.4 -->\n      <g style=\"fill:#262626;\" transform=\"translate(7.2 324.501516)scale(0.11 -0.11)\">\n       <defs>\n        <path d=\"M 37.796875 64.3125 \nL 12.890625 25.390625 \nL 37.796875 25.390625 \nz\nM 35.203125 72.90625 \nL 47.609375 72.90625 \nL 47.609375 25.390625 \nL 58.015625 25.390625 \nL 58.015625 17.1875 \nL 47.609375 17.1875 \nL 47.609375 0 \nL 37.796875 0 \nL 37.796875 17.1875 \nL 4.890625 17.1875 \nL 4.890625 26.703125 \nz\n\" id=\"DejaVuSans-52\"/>\n       </defs>\n       <use xlink:href=\"#DejaVuSans-48\"/>\n       <use x=\"63.623047\" xlink:href=\"#DejaVuSans-46\"/>\n       <use x=\"95.410156\" xlink:href=\"#DejaVuSans-52\"/>\n      </g>\n     </g>\n    </g>\n    <g id=\"ytick_4\">\n     <g id=\"line2d_10\">\n      <path clip-path=\"url(#p2bd1b0c0b4)\" d=\"M 34.193438 220.987625 \nL 1061.398438 220.987625 \n\" style=\"fill:none;stroke:#ffffff;stroke-linecap:round;\"/>\n     </g>\n     <g id=\"text_11\">\n      <!-- 0.6 -->\n      <g style=\"fill:#262626;\" transform=\"translate(7.2 225.166766)scale(0.11 -0.11)\">\n       <defs>\n        <path d=\"M 33.015625 40.375 \nQ 26.375 40.375 22.484375 35.828125 \nQ 18.609375 31.296875 18.609375 23.390625 \nQ 18.609375 15.53125 22.484375 10.953125 \nQ 26.375 6.390625 33.015625 6.390625 \nQ 39.65625 6.390625 43.53125 10.953125 \nQ 47.40625 15.53125 47.40625 23.390625 \nQ 47.40625 31.296875 43.53125 35.828125 \nQ 39.65625 40.375 33.015625 40.375 \nz\nM 52.59375 71.296875 \nL 52.59375 62.3125 \nQ 48.875 64.0625 45.09375 64.984375 \nQ 41.3125 65.921875 37.59375 65.921875 \nQ 27.828125 65.921875 22.671875 59.328125 \nQ 17.53125 52.734375 16.796875 39.40625 \nQ 19.671875 43.65625 24.015625 45.921875 \nQ 28.375 48.1875 33.59375 48.1875 \nQ 44.578125 48.1875 50.953125 41.515625 \nQ 57.328125 34.859375 57.328125 23.390625 \nQ 57.328125 12.15625 50.6875 5.359375 \nQ 44.046875 -1.421875 33.015625 -1.421875 \nQ 20.359375 -1.421875 13.671875 8.265625 \nQ 6.984375 17.96875 6.984375 36.375 \nQ 6.984375 53.65625 15.1875 63.9375 \nQ 23.390625 74.21875 37.203125 74.21875 \nQ 40.921875 74.21875 44.703125 73.484375 \nQ 48.484375 72.75 52.59375 71.296875 \nz\n\" id=\"DejaVuSans-54\"/>\n       </defs>\n       <use xlink:href=\"#DejaVuSans-48\"/>\n       <use x=\"63.623047\" xlink:href=\"#DejaVuSans-46\"/>\n       <use x=\"95.410156\" xlink:href=\"#DejaVuSans-54\"/>\n      </g>\n     </g>\n    </g>\n    <g id=\"ytick_5\">\n     <g id=\"line2d_11\">\n      <path clip-path=\"url(#p2bd1b0c0b4)\" d=\"M 34.193438 121.652875 \nL 1061.398438 121.652875 \n\" style=\"fill:none;stroke:#ffffff;stroke-linecap:round;\"/>\n     </g>\n     <g id=\"text_12\">\n      <!-- 0.8 -->\n      <g style=\"fill:#262626;\" transform=\"translate(7.2 125.832016)scale(0.11 -0.11)\">\n       <defs>\n        <path d=\"M 31.78125 34.625 \nQ 24.75 34.625 20.71875 30.859375 \nQ 16.703125 27.09375 16.703125 20.515625 \nQ 16.703125 13.921875 20.71875 10.15625 \nQ 24.75 6.390625 31.78125 6.390625 \nQ 38.8125 6.390625 42.859375 10.171875 \nQ 46.921875 13.96875 46.921875 20.515625 \nQ 46.921875 27.09375 42.890625 30.859375 \nQ 38.875 34.625 31.78125 34.625 \nz\nM 21.921875 38.8125 \nQ 15.578125 40.375 12.03125 44.71875 \nQ 8.5 49.078125 8.5 55.328125 \nQ 8.5 64.0625 14.71875 69.140625 \nQ 20.953125 74.21875 31.78125 74.21875 \nQ 42.671875 74.21875 48.875 69.140625 \nQ 55.078125 64.0625 55.078125 55.328125 \nQ 55.078125 49.078125 51.53125 44.71875 \nQ 48 40.375 41.703125 38.8125 \nQ 48.828125 37.15625 52.796875 32.3125 \nQ 56.78125 27.484375 56.78125 20.515625 \nQ 56.78125 9.90625 50.3125 4.234375 \nQ 43.84375 -1.421875 31.78125 -1.421875 \nQ 19.734375 -1.421875 13.25 4.234375 \nQ 6.78125 9.90625 6.78125 20.515625 \nQ 6.78125 27.484375 10.78125 32.3125 \nQ 14.796875 37.15625 21.921875 38.8125 \nz\nM 18.3125 54.390625 \nQ 18.3125 48.734375 21.84375 45.5625 \nQ 25.390625 42.390625 31.78125 42.390625 \nQ 38.140625 42.390625 41.71875 45.5625 \nQ 45.3125 48.734375 45.3125 54.390625 \nQ 45.3125 60.0625 41.71875 63.234375 \nQ 38.140625 66.40625 31.78125 66.40625 \nQ 25.390625 66.40625 21.84375 63.234375 \nQ 18.3125 60.0625 18.3125 54.390625 \nz\n\" id=\"DejaVuSans-56\"/>\n       </defs>\n       <use xlink:href=\"#DejaVuSans-48\"/>\n       <use x=\"63.623047\" xlink:href=\"#DejaVuSans-46\"/>\n       <use x=\"95.410156\" xlink:href=\"#DejaVuSans-56\"/>\n      </g>\n     </g>\n    </g>\n    <g id=\"ytick_6\">\n     <g id=\"line2d_12\">\n      <path clip-path=\"url(#p2bd1b0c0b4)\" d=\"M 34.193438 22.318125 \nL 1061.398438 22.318125 \n\" style=\"fill:none;stroke:#ffffff;stroke-linecap:round;\"/>\n     </g>\n     <g id=\"text_13\">\n      <!-- 1.0 -->\n      <g style=\"fill:#262626;\" transform=\"translate(7.2 26.497266)scale(0.11 -0.11)\">\n       <defs>\n        <path d=\"M 12.40625 8.296875 \nL 28.515625 8.296875 \nL 28.515625 63.921875 \nL 10.984375 60.40625 \nL 10.984375 69.390625 \nL 28.421875 72.90625 \nL 38.28125 72.90625 \nL 38.28125 8.296875 \nL 54.390625 8.296875 \nL 54.390625 0 \nL 12.40625 0 \nz\n\" id=\"DejaVuSans-49\"/>\n       </defs>\n       <use xlink:href=\"#DejaVuSans-49\"/>\n       <use x=\"63.623047\" xlink:href=\"#DejaVuSans-46\"/>\n       <use x=\"95.410156\" xlink:href=\"#DejaVuSans-48\"/>\n      </g>\n     </g>\n    </g>\n   </g>\n   <g id=\"patch_3\">\n    <path clip-path=\"url(#p2bd1b0c0b4)\" d=\"M 76.993646 518.991875 \nL 98.39375 518.991875 \nL 98.39375 162.578167 \nL 76.993646 162.578167 \nz\n\" style=\"fill:#4c72b0;stroke:#ffffff;stroke-linejoin:miter;\"/>\n   </g>\n   <g id=\"patch_4\">\n    <path clip-path=\"url(#p2bd1b0c0b4)\" d=\"M 248.194479 518.991875 \nL 269.594583 518.991875 \nL 269.594583 458.994358 \nL 248.194479 458.994358 \nz\n\" style=\"fill:#4c72b0;stroke:#ffffff;stroke-linejoin:miter;\"/>\n   </g>\n   <g id=\"patch_5\">\n    <path clip-path=\"url(#p2bd1b0c0b4)\" d=\"M 419.395312 518.991875 \nL 440.795417 518.991875 \nL 440.795417 230.124273 \nL 419.395312 230.124273 \nz\n\" style=\"fill:#4c72b0;stroke:#ffffff;stroke-linejoin:miter;\"/>\n   </g>\n   <g id=\"patch_6\">\n    <path clip-path=\"url(#p2bd1b0c0b4)\" d=\"M 590.596146 518.991875 \nL 611.99625 518.991875 \nL 611.99625 316.546643 \nL 590.596146 316.546643 \nz\n\" style=\"fill:#4c72b0;stroke:#ffffff;stroke-linejoin:miter;\"/>\n   </g>\n   <g id=\"patch_7\">\n    <path clip-path=\"url(#p2bd1b0c0b4)\" d=\"M 761.796979 518.991875 \nL 783.197083 518.991875 \nL 783.197083 172.313232 \nL 761.796979 172.313232 \nz\n\" style=\"fill:#4c72b0;stroke:#ffffff;stroke-linejoin:miter;\"/>\n   </g>\n   <g id=\"patch_8\">\n    <path clip-path=\"url(#p2bd1b0c0b4)\" d=\"M 932.997812 518.991875 \nL 954.397917 518.991875 \nL 954.397917 226.152035 \nL 932.997812 226.152035 \nz\n\" style=\"fill:#4c72b0;stroke:#ffffff;stroke-linejoin:miter;\"/>\n   </g>\n   <g id=\"patch_9\">\n    <path clip-path=\"url(#p2bd1b0c0b4)\" d=\"M 98.39375 518.991875 \nL 119.793854 518.991875 \nL 119.793854 156.031957 \nL 98.39375 156.031957 \nz\n\" style=\"fill:#dd8452;stroke:#ffffff;stroke-linejoin:miter;\"/>\n   </g>\n   <g id=\"patch_10\">\n    <path clip-path=\"url(#p2bd1b0c0b4)\" d=\"M 269.594583 518.991875 \nL 290.994687 518.991875 \nL 290.994687 458.966372 \nL 269.594583 458.966372 \nz\n\" style=\"fill:#dd8452;stroke:#ffffff;stroke-linejoin:miter;\"/>\n   </g>\n   <g id=\"patch_11\">\n    <path clip-path=\"url(#p2bd1b0c0b4)\" d=\"M 440.795417 518.991875 \nL 462.195521 518.991875 \nL 462.195521 227.45093 \nL 440.795417 227.45093 \nz\n\" style=\"fill:#dd8452;stroke:#ffffff;stroke-linejoin:miter;\"/>\n   </g>\n   <g id=\"patch_12\">\n    <path clip-path=\"url(#p2bd1b0c0b4)\" d=\"M 611.99625 518.991875 \nL 633.396354 518.991875 \nL 633.396354 229.716706 \nL 611.99625 229.716706 \nz\n\" style=\"fill:#dd8452;stroke:#ffffff;stroke-linejoin:miter;\"/>\n   </g>\n   <g id=\"patch_13\">\n    <path clip-path=\"url(#p2bd1b0c0b4)\" d=\"M 783.197083 518.991875 \nL 804.597187 518.991875 \nL 804.597187 170.217384 \nL 783.197083 170.217384 \nz\n\" style=\"fill:#dd8452;stroke:#ffffff;stroke-linejoin:miter;\"/>\n   </g>\n   <g id=\"patch_14\">\n    <path clip-path=\"url(#p2bd1b0c0b4)\" d=\"M 954.397917 518.991875 \nL 975.798021 518.991875 \nL 975.798021 224.218297 \nL 954.397917 224.218297 \nz\n\" style=\"fill:#dd8452;stroke:#ffffff;stroke-linejoin:miter;\"/>\n   </g>\n   <g id=\"patch_15\">\n    <path clip-path=\"url(#p2bd1b0c0b4)\" d=\"M 119.793854 518.991875 \nL 141.193958 518.991875 \nL 141.193958 162.601725 \nL 119.793854 162.601725 \nz\n\" style=\"fill:#55a868;stroke:#ffffff;stroke-linejoin:miter;\"/>\n   </g>\n   <g id=\"patch_16\">\n    <path clip-path=\"url(#p2bd1b0c0b4)\" d=\"M 290.994687 518.991875 \nL 312.394792 518.991875 \nL 312.394792 458.994648 \nL 290.994687 458.994648 \nz\n\" style=\"fill:#55a868;stroke:#ffffff;stroke-linejoin:miter;\"/>\n   </g>\n   <g id=\"patch_17\">\n    <path clip-path=\"url(#p2bd1b0c0b4)\" d=\"M 462.195521 518.991875 \nL 483.595625 518.991875 \nL 483.595625 230.145733 \nL 462.195521 230.145733 \nz\n\" style=\"fill:#55a868;stroke:#ffffff;stroke-linejoin:miter;\"/>\n   </g>\n   <g id=\"patch_18\">\n    <path clip-path=\"url(#p2bd1b0c0b4)\" d=\"M 633.396354 518.991875 \nL 654.796458 518.991875 \nL 654.796458 316.534084 \nL 633.396354 316.534084 \nz\n\" style=\"fill:#55a868;stroke:#ffffff;stroke-linejoin:miter;\"/>\n   </g>\n   <g id=\"patch_19\">\n    <path clip-path=\"url(#p2bd1b0c0b4)\" d=\"M 804.597187 518.991875 \nL 825.997292 518.991875 \nL 825.997292 172.308334 \nL 804.597187 172.308334 \nz\n\" style=\"fill:#55a868;stroke:#ffffff;stroke-linejoin:miter;\"/>\n   </g>\n   <g id=\"patch_20\">\n    <path clip-path=\"url(#p2bd1b0c0b4)\" d=\"M 975.798021 518.991875 \nL 997.198125 518.991875 \nL 997.198125 226.153598 \nL 975.798021 226.153598 \nz\n\" style=\"fill:#55a868;stroke:#ffffff;stroke-linejoin:miter;\"/>\n   </g>\n   <g id=\"patch_21\">\n    <path clip-path=\"url(#p2bd1b0c0b4)\" d=\"M 141.193958 518.991875 \nL 162.594063 518.991875 \nL 162.594063 169.716876 \nL 141.193958 169.716876 \nz\n\" style=\"fill:#c44e52;stroke:#ffffff;stroke-linejoin:miter;\"/>\n   </g>\n   <g id=\"patch_22\">\n    <path clip-path=\"url(#p2bd1b0c0b4)\" d=\"M 312.394792 518.991875 \nL 333.794896 518.991875 \nL 333.794896 459.030582 \nL 312.394792 459.030582 \nz\n\" style=\"fill:#c44e52;stroke:#ffffff;stroke-linejoin:miter;\"/>\n   </g>\n   <g id=\"patch_23\">\n    <path clip-path=\"url(#p2bd1b0c0b4)\" d=\"M 483.595625 518.991875 \nL 504.995729 518.991875 \nL 504.995729 231.762162 \nL 483.595625 231.762162 \nz\n\" style=\"fill:#c44e52;stroke:#ffffff;stroke-linejoin:miter;\"/>\n   </g>\n   <g id=\"patch_24\">\n    <path clip-path=\"url(#p2bd1b0c0b4)\" d=\"M 654.796458 518.991875 \nL 676.196562 518.991875 \nL 676.196562 342.401368 \nL 654.796458 342.401368 \nz\n\" style=\"fill:#c44e52;stroke:#ffffff;stroke-linejoin:miter;\"/>\n   </g>\n   <g id=\"patch_25\">\n    <path clip-path=\"url(#p2bd1b0c0b4)\" d=\"M 825.997292 518.991875 \nL 847.397396 518.991875 \nL 847.397396 172.290527 \nL 825.997292 172.290527 \nz\n\" style=\"fill:#c44e52;stroke:#ffffff;stroke-linejoin:miter;\"/>\n   </g>\n   <g id=\"patch_26\">\n    <path clip-path=\"url(#p2bd1b0c0b4)\" d=\"M 997.198125 518.991875 \nL 1018.598229 518.991875 \nL 1018.598229 226.678097 \nL 997.198125 226.678097 \nz\n\" style=\"fill:#c44e52;stroke:#ffffff;stroke-linejoin:miter;\"/>\n   </g>\n   <g id=\"LineCollection_1\">\n    <path clip-path=\"url(#p2bd1b0c0b4)\" d=\"M 87.693698 168.059163 \nL 87.693698 157.097171 \n\" style=\"fill:none;stroke:#262626;stroke-width:1.5;\"/>\n    <path clip-path=\"url(#p2bd1b0c0b4)\" d=\"M 258.894531 461.914292 \nL 258.894531 456.074424 \n\" style=\"fill:none;stroke:#262626;stroke-width:1.5;\"/>\n    <path clip-path=\"url(#p2bd1b0c0b4)\" d=\"M 430.095365 239.527109 \nL 430.095365 220.721437 \n\" style=\"fill:none;stroke:#262626;stroke-width:1.5;\"/>\n    <path clip-path=\"url(#p2bd1b0c0b4)\" d=\"M 601.296198 321.270304 \nL 601.296198 311.822982 \n\" style=\"fill:none;stroke:#262626;stroke-width:1.5;\"/>\n    <path clip-path=\"url(#p2bd1b0c0b4)\" d=\"M 772.497031 174.591556 \nL 772.497031 170.034908 \n\" style=\"fill:none;stroke:#262626;stroke-width:1.5;\"/>\n    <path clip-path=\"url(#p2bd1b0c0b4)\" d=\"M 943.697865 230.472207 \nL 943.697865 221.831863 \n\" style=\"fill:none;stroke:#262626;stroke-width:1.5;\"/>\n   </g>\n   <g id=\"LineCollection_2\">\n    <path clip-path=\"url(#p2bd1b0c0b4)\" d=\"M 109.093802 161.041649 \nL 109.093802 151.022264 \n\" style=\"fill:none;stroke:#262626;stroke-width:1.5;\"/>\n    <path clip-path=\"url(#p2bd1b0c0b4)\" d=\"M 280.294635 461.696596 \nL 280.294635 456.236149 \n\" style=\"fill:none;stroke:#262626;stroke-width:1.5;\"/>\n    <path clip-path=\"url(#p2bd1b0c0b4)\" d=\"M 451.495469 239.019073 \nL 451.495469 215.882787 \n\" style=\"fill:none;stroke:#262626;stroke-width:1.5;\"/>\n    <path clip-path=\"url(#p2bd1b0c0b4)\" d=\"M 622.696302 243.003431 \nL 622.696302 216.429981 \n\" style=\"fill:none;stroke:#262626;stroke-width:1.5;\"/>\n    <path clip-path=\"url(#p2bd1b0c0b4)\" d=\"M 793.897135 174.021945 \nL 793.897135 166.412823 \n\" style=\"fill:none;stroke:#262626;stroke-width:1.5;\"/>\n    <path clip-path=\"url(#p2bd1b0c0b4)\" d=\"M 965.097969 227.854985 \nL 965.097969 220.581609 \n\" style=\"fill:none;stroke:#262626;stroke-width:1.5;\"/>\n   </g>\n   <g id=\"LineCollection_3\">\n    <path clip-path=\"url(#p2bd1b0c0b4)\" d=\"M 130.493906 168.118034 \nL 130.493906 157.085415 \n\" style=\"fill:none;stroke:#262626;stroke-width:1.5;\"/>\n    <path clip-path=\"url(#p2bd1b0c0b4)\" d=\"M 301.69474 461.900096 \nL 301.69474 456.089199 \n\" style=\"fill:none;stroke:#262626;stroke-width:1.5;\"/>\n    <path clip-path=\"url(#p2bd1b0c0b4)\" d=\"M 472.895573 239.503267 \nL 472.895573 220.788199 \n\" style=\"fill:none;stroke:#262626;stroke-width:1.5;\"/>\n    <path clip-path=\"url(#p2bd1b0c0b4)\" d=\"M 644.096406 321.293254 \nL 644.096406 311.774913 \n\" style=\"fill:none;stroke:#262626;stroke-width:1.5;\"/>\n    <path clip-path=\"url(#p2bd1b0c0b4)\" d=\"M 815.29724 174.569516 \nL 815.29724 170.047153 \n\" style=\"fill:none;stroke:#262626;stroke-width:1.5;\"/>\n    <path clip-path=\"url(#p2bd1b0c0b4)\" d=\"M 986.498073 230.416131 \nL 986.498073 221.891065 \n\" style=\"fill:none;stroke:#262626;stroke-width:1.5;\"/>\n   </g>\n   <g id=\"LineCollection_4\">\n    <path clip-path=\"url(#p2bd1b0c0b4)\" d=\"M 151.89401 177.708132 \nL 151.89401 161.72562 \n\" style=\"fill:none;stroke:#262626;stroke-width:1.5;\"/>\n    <path clip-path=\"url(#p2bd1b0c0b4)\" d=\"M 323.094844 461.84173 \nL 323.094844 456.219434 \n\" style=\"fill:none;stroke:#262626;stroke-width:1.5;\"/>\n    <path clip-path=\"url(#p2bd1b0c0b4)\" d=\"M 494.295677 240.995601 \nL 494.295677 222.528724 \n\" style=\"fill:none;stroke:#262626;stroke-width:1.5;\"/>\n    <path clip-path=\"url(#p2bd1b0c0b4)\" d=\"M 665.49651 349.492813 \nL 665.49651 335.309922 \n\" style=\"fill:none;stroke:#262626;stroke-width:1.5;\"/>\n    <path clip-path=\"url(#p2bd1b0c0b4)\" d=\"M 836.697344 175.115475 \nL 836.697344 169.465579 \n\" style=\"fill:none;stroke:#262626;stroke-width:1.5;\"/>\n    <path clip-path=\"url(#p2bd1b0c0b4)\" d=\"M 1007.898177 230.751588 \nL 1007.898177 222.604607 \n\" style=\"fill:none;stroke:#262626;stroke-width:1.5;\"/>\n   </g>\n   <g id=\"line2d_13\">\n    <defs>\n     <path d=\"M 4 0 \nL -4 -0 \n\" id=\"mb15738652b\" style=\"stroke:#262626;\"/>\n    </defs>\n    <g clip-path=\"url(#p2bd1b0c0b4)\">\n     <use style=\"fill:#262626;stroke:#262626;\" x=\"87.693698\" xlink:href=\"#mb15738652b\" y=\"168.059163\"/>\n     <use style=\"fill:#262626;stroke:#262626;\" x=\"258.894531\" xlink:href=\"#mb15738652b\" y=\"461.914292\"/>\n     <use style=\"fill:#262626;stroke:#262626;\" x=\"430.095365\" xlink:href=\"#mb15738652b\" y=\"239.527109\"/>\n     <use style=\"fill:#262626;stroke:#262626;\" x=\"601.296198\" xlink:href=\"#mb15738652b\" y=\"321.270304\"/>\n     <use style=\"fill:#262626;stroke:#262626;\" x=\"772.497031\" xlink:href=\"#mb15738652b\" y=\"174.591556\"/>\n     <use style=\"fill:#262626;stroke:#262626;\" x=\"943.697865\" xlink:href=\"#mb15738652b\" y=\"230.472207\"/>\n    </g>\n   </g>\n   <g id=\"line2d_14\">\n    <g clip-path=\"url(#p2bd1b0c0b4)\">\n     <use style=\"fill:#262626;stroke:#262626;\" x=\"87.693698\" xlink:href=\"#mb15738652b\" y=\"157.097171\"/>\n     <use style=\"fill:#262626;stroke:#262626;\" x=\"258.894531\" xlink:href=\"#mb15738652b\" y=\"456.074424\"/>\n     <use style=\"fill:#262626;stroke:#262626;\" x=\"430.095365\" xlink:href=\"#mb15738652b\" y=\"220.721437\"/>\n     <use style=\"fill:#262626;stroke:#262626;\" x=\"601.296198\" xlink:href=\"#mb15738652b\" y=\"311.822982\"/>\n     <use style=\"fill:#262626;stroke:#262626;\" x=\"772.497031\" xlink:href=\"#mb15738652b\" y=\"170.034908\"/>\n     <use style=\"fill:#262626;stroke:#262626;\" x=\"943.697865\" xlink:href=\"#mb15738652b\" y=\"221.831863\"/>\n    </g>\n   </g>\n   <g id=\"line2d_15\">\n    <g clip-path=\"url(#p2bd1b0c0b4)\">\n     <use style=\"fill:#262626;stroke:#262626;\" x=\"109.093802\" xlink:href=\"#mb15738652b\" y=\"161.041649\"/>\n     <use style=\"fill:#262626;stroke:#262626;\" x=\"280.294635\" xlink:href=\"#mb15738652b\" y=\"461.696596\"/>\n     <use style=\"fill:#262626;stroke:#262626;\" x=\"451.495469\" xlink:href=\"#mb15738652b\" y=\"239.019073\"/>\n     <use style=\"fill:#262626;stroke:#262626;\" x=\"622.696302\" xlink:href=\"#mb15738652b\" y=\"243.003431\"/>\n     <use style=\"fill:#262626;stroke:#262626;\" x=\"793.897135\" xlink:href=\"#mb15738652b\" y=\"174.021945\"/>\n     <use style=\"fill:#262626;stroke:#262626;\" x=\"965.097969\" xlink:href=\"#mb15738652b\" y=\"227.854985\"/>\n    </g>\n   </g>\n   <g id=\"line2d_16\">\n    <g clip-path=\"url(#p2bd1b0c0b4)\">\n     <use style=\"fill:#262626;stroke:#262626;\" x=\"109.093802\" xlink:href=\"#mb15738652b\" y=\"151.022264\"/>\n     <use style=\"fill:#262626;stroke:#262626;\" x=\"280.294635\" xlink:href=\"#mb15738652b\" y=\"456.236149\"/>\n     <use style=\"fill:#262626;stroke:#262626;\" x=\"451.495469\" xlink:href=\"#mb15738652b\" y=\"215.882787\"/>\n     <use style=\"fill:#262626;stroke:#262626;\" x=\"622.696302\" xlink:href=\"#mb15738652b\" y=\"216.429981\"/>\n     <use style=\"fill:#262626;stroke:#262626;\" x=\"793.897135\" xlink:href=\"#mb15738652b\" y=\"166.412823\"/>\n     <use style=\"fill:#262626;stroke:#262626;\" x=\"965.097969\" xlink:href=\"#mb15738652b\" y=\"220.581609\"/>\n    </g>\n   </g>\n   <g id=\"line2d_17\">\n    <g clip-path=\"url(#p2bd1b0c0b4)\">\n     <use style=\"fill:#262626;stroke:#262626;\" x=\"130.493906\" xlink:href=\"#mb15738652b\" y=\"168.118034\"/>\n     <use style=\"fill:#262626;stroke:#262626;\" x=\"301.69474\" xlink:href=\"#mb15738652b\" y=\"461.900096\"/>\n     <use style=\"fill:#262626;stroke:#262626;\" x=\"472.895573\" xlink:href=\"#mb15738652b\" y=\"239.503267\"/>\n     <use style=\"fill:#262626;stroke:#262626;\" x=\"644.096406\" xlink:href=\"#mb15738652b\" y=\"321.293254\"/>\n     <use style=\"fill:#262626;stroke:#262626;\" x=\"815.29724\" xlink:href=\"#mb15738652b\" y=\"174.569516\"/>\n     <use style=\"fill:#262626;stroke:#262626;\" x=\"986.498073\" xlink:href=\"#mb15738652b\" y=\"230.416131\"/>\n    </g>\n   </g>\n   <g id=\"line2d_18\">\n    <g clip-path=\"url(#p2bd1b0c0b4)\">\n     <use style=\"fill:#262626;stroke:#262626;\" x=\"130.493906\" xlink:href=\"#mb15738652b\" y=\"157.085415\"/>\n     <use style=\"fill:#262626;stroke:#262626;\" x=\"301.69474\" xlink:href=\"#mb15738652b\" y=\"456.089199\"/>\n     <use style=\"fill:#262626;stroke:#262626;\" x=\"472.895573\" xlink:href=\"#mb15738652b\" y=\"220.788199\"/>\n     <use style=\"fill:#262626;stroke:#262626;\" x=\"644.096406\" xlink:href=\"#mb15738652b\" y=\"311.774913\"/>\n     <use style=\"fill:#262626;stroke:#262626;\" x=\"815.29724\" xlink:href=\"#mb15738652b\" y=\"170.047153\"/>\n     <use style=\"fill:#262626;stroke:#262626;\" x=\"986.498073\" xlink:href=\"#mb15738652b\" y=\"221.891065\"/>\n    </g>\n   </g>\n   <g id=\"line2d_19\">\n    <g clip-path=\"url(#p2bd1b0c0b4)\">\n     <use style=\"fill:#262626;stroke:#262626;\" x=\"151.89401\" xlink:href=\"#mb15738652b\" y=\"177.708132\"/>\n     <use style=\"fill:#262626;stroke:#262626;\" x=\"323.094844\" xlink:href=\"#mb15738652b\" y=\"461.84173\"/>\n     <use style=\"fill:#262626;stroke:#262626;\" x=\"494.295677\" xlink:href=\"#mb15738652b\" y=\"240.995601\"/>\n     <use style=\"fill:#262626;stroke:#262626;\" x=\"665.49651\" xlink:href=\"#mb15738652b\" y=\"349.492813\"/>\n     <use style=\"fill:#262626;stroke:#262626;\" x=\"836.697344\" xlink:href=\"#mb15738652b\" y=\"175.115475\"/>\n     <use style=\"fill:#262626;stroke:#262626;\" x=\"1007.898177\" xlink:href=\"#mb15738652b\" y=\"230.751588\"/>\n    </g>\n   </g>\n   <g id=\"line2d_20\">\n    <g clip-path=\"url(#p2bd1b0c0b4)\">\n     <use style=\"fill:#262626;stroke:#262626;\" x=\"151.89401\" xlink:href=\"#mb15738652b\" y=\"161.72562\"/>\n     <use style=\"fill:#262626;stroke:#262626;\" x=\"323.094844\" xlink:href=\"#mb15738652b\" y=\"456.219434\"/>\n     <use style=\"fill:#262626;stroke:#262626;\" x=\"494.295677\" xlink:href=\"#mb15738652b\" y=\"222.528724\"/>\n     <use style=\"fill:#262626;stroke:#262626;\" x=\"665.49651\" xlink:href=\"#mb15738652b\" y=\"335.309922\"/>\n     <use style=\"fill:#262626;stroke:#262626;\" x=\"836.697344\" xlink:href=\"#mb15738652b\" y=\"169.465579\"/>\n     <use style=\"fill:#262626;stroke:#262626;\" x=\"1007.898177\" xlink:href=\"#mb15738652b\" y=\"222.604607\"/>\n    </g>\n   </g>\n   <g id=\"patch_27\">\n    <path d=\"M 34.193438 518.991875 \nL 34.193438 22.318125 \n\" style=\"fill:none;stroke:#ffffff;stroke-linecap:square;stroke-linejoin:miter;stroke-width:1.25;\"/>\n   </g>\n   <g id=\"patch_28\">\n    <path d=\"M 1061.398438 518.991875 \nL 1061.398438 22.318125 \n\" style=\"fill:none;stroke:#ffffff;stroke-linecap:square;stroke-linejoin:miter;stroke-width:1.25;\"/>\n   </g>\n   <g id=\"patch_29\">\n    <path d=\"M 34.193438 518.991875 \nL 1061.398438 518.991875 \n\" style=\"fill:none;stroke:#ffffff;stroke-linecap:square;stroke-linejoin:miter;stroke-width:1.25;\"/>\n   </g>\n   <g id=\"patch_30\">\n    <path d=\"M 34.193438 22.318125 \nL 1061.398438 22.318125 \n\" style=\"fill:none;stroke:#ffffff;stroke-linecap:square;stroke-linejoin:miter;stroke-width:1.25;\"/>\n   </g>\n   <g id=\"text_14\">\n    <!-- Classifier Performance Comparision -->\n    <g style=\"fill:#262626;\" transform=\"translate(440.98375 16.318125)scale(0.12 -0.12)\">\n     <defs>\n      <path id=\"DejaVuSans-32\"/>\n      <path d=\"M 19.671875 64.796875 \nL 19.671875 37.40625 \nL 32.078125 37.40625 \nQ 38.96875 37.40625 42.71875 40.96875 \nQ 46.484375 44.53125 46.484375 51.125 \nQ 46.484375 57.671875 42.71875 61.234375 \nQ 38.96875 64.796875 32.078125 64.796875 \nz\nM 9.8125 72.90625 \nL 32.078125 72.90625 \nQ 44.34375 72.90625 50.609375 67.359375 \nQ 56.890625 61.8125 56.890625 51.125 \nQ 56.890625 40.328125 50.609375 34.8125 \nQ 44.34375 29.296875 32.078125 29.296875 \nL 19.671875 29.296875 \nL 19.671875 0 \nL 9.8125 0 \nz\n\" id=\"DejaVuSans-80\"/>\n      <path d=\"M 18.109375 8.203125 \nL 18.109375 -20.796875 \nL 9.078125 -20.796875 \nL 9.078125 54.6875 \nL 18.109375 54.6875 \nL 18.109375 46.390625 \nQ 20.953125 51.265625 25.265625 53.625 \nQ 29.59375 56 35.59375 56 \nQ 45.5625 56 51.78125 48.09375 \nQ 58.015625 40.1875 58.015625 27.296875 \nQ 58.015625 14.40625 51.78125 6.484375 \nQ 45.5625 -1.421875 35.59375 -1.421875 \nQ 29.59375 -1.421875 25.265625 0.953125 \nQ 20.953125 3.328125 18.109375 8.203125 \nz\nM 48.6875 27.296875 \nQ 48.6875 37.203125 44.609375 42.84375 \nQ 40.53125 48.484375 33.40625 48.484375 \nQ 26.265625 48.484375 22.1875 42.84375 \nQ 18.109375 37.203125 18.109375 27.296875 \nQ 18.109375 17.390625 22.1875 11.75 \nQ 26.265625 6.109375 33.40625 6.109375 \nQ 40.53125 6.109375 44.609375 11.75 \nQ 48.6875 17.390625 48.6875 27.296875 \nz\n\" id=\"DejaVuSans-112\"/>\n     </defs>\n     <use xlink:href=\"#DejaVuSans-67\"/>\n     <use x=\"69.824219\" xlink:href=\"#DejaVuSans-108\"/>\n     <use x=\"97.607422\" xlink:href=\"#DejaVuSans-97\"/>\n     <use x=\"158.886719\" xlink:href=\"#DejaVuSans-115\"/>\n     <use x=\"210.986328\" xlink:href=\"#DejaVuSans-115\"/>\n     <use x=\"263.085938\" xlink:href=\"#DejaVuSans-105\"/>\n     <use x=\"290.869141\" xlink:href=\"#DejaVuSans-102\"/>\n     <use x=\"326.074219\" xlink:href=\"#DejaVuSans-105\"/>\n     <use x=\"353.857422\" xlink:href=\"#DejaVuSans-101\"/>\n     <use x=\"415.380859\" xlink:href=\"#DejaVuSans-114\"/>\n     <use x=\"456.494141\" xlink:href=\"#DejaVuSans-32\"/>\n     <use x=\"488.28125\" xlink:href=\"#DejaVuSans-80\"/>\n     <use x=\"544.958984\" xlink:href=\"#DejaVuSans-101\"/>\n     <use x=\"606.482422\" xlink:href=\"#DejaVuSans-114\"/>\n     <use x=\"647.595703\" xlink:href=\"#DejaVuSans-102\"/>\n     <use x=\"682.800781\" xlink:href=\"#DejaVuSans-111\"/>\n     <use x=\"743.982422\" xlink:href=\"#DejaVuSans-114\"/>\n     <use x=\"783.345703\" xlink:href=\"#DejaVuSans-109\"/>\n     <use x=\"880.757812\" xlink:href=\"#DejaVuSans-97\"/>\n     <use x=\"942.037109\" xlink:href=\"#DejaVuSans-110\"/>\n     <use x=\"1005.416016\" xlink:href=\"#DejaVuSans-99\"/>\n     <use x=\"1060.396484\" xlink:href=\"#DejaVuSans-101\"/>\n     <use x=\"1121.919922\" xlink:href=\"#DejaVuSans-32\"/>\n     <use x=\"1153.707031\" xlink:href=\"#DejaVuSans-67\"/>\n     <use x=\"1223.53125\" xlink:href=\"#DejaVuSans-111\"/>\n     <use x=\"1284.712891\" xlink:href=\"#DejaVuSans-109\"/>\n     <use x=\"1382.125\" xlink:href=\"#DejaVuSans-112\"/>\n     <use x=\"1445.601562\" xlink:href=\"#DejaVuSans-97\"/>\n     <use x=\"1506.880859\" xlink:href=\"#DejaVuSans-114\"/>\n     <use x=\"1547.994141\" xlink:href=\"#DejaVuSans-105\"/>\n     <use x=\"1575.777344\" xlink:href=\"#DejaVuSans-115\"/>\n     <use x=\"1627.876953\" xlink:href=\"#DejaVuSans-105\"/>\n     <use x=\"1655.660156\" xlink:href=\"#DejaVuSans-111\"/>\n     <use x=\"1716.841797\" xlink:href=\"#DejaVuSans-110\"/>\n    </g>\n   </g>\n   <g id=\"legend_1\">\n    <g id=\"patch_31\">\n     <path d=\"M 968.276563 95.701875 \nL 1053.698437 95.701875 \nQ 1055.898438 95.701875 1055.898438 93.501875 \nL 1055.898438 30.018125 \nQ 1055.898438 27.818125 1053.698437 27.818125 \nL 968.276563 27.818125 \nQ 966.076563 27.818125 966.076563 30.018125 \nL 966.076563 93.501875 \nQ 966.076563 95.701875 968.276563 95.701875 \nz\n\" style=\"fill:#eaeaf2;opacity:0.8;stroke:#cccccc;stroke-linejoin:miter;\"/>\n    </g>\n    <g id=\"patch_32\">\n     <path d=\"M 970.476562 40.576406 \nL 992.476562 40.576406 \nL 992.476562 32.876406 \nL 970.476562 32.876406 \nz\n\" style=\"fill:#4c72b0;stroke:#ffffff;stroke-linejoin:miter;\"/>\n    </g>\n    <g id=\"text_15\">\n     <!-- Accuracy -->\n     <g style=\"fill:#262626;\" transform=\"translate(1001.276562 40.576406)scale(0.11 -0.11)\">\n      <defs>\n       <path d=\"M 34.1875 63.1875 \nL 20.796875 26.90625 \nL 47.609375 26.90625 \nz\nM 28.609375 72.90625 \nL 39.796875 72.90625 \nL 67.578125 0 \nL 57.328125 0 \nL 50.6875 18.703125 \nL 17.828125 18.703125 \nL 11.1875 0 \nL 0.78125 0 \nz\n\" id=\"DejaVuSans-65\"/>\n      </defs>\n      <use xlink:href=\"#DejaVuSans-65\"/>\n      <use x=\"66.658203\" xlink:href=\"#DejaVuSans-99\"/>\n      <use x=\"121.638672\" xlink:href=\"#DejaVuSans-99\"/>\n      <use x=\"176.619141\" xlink:href=\"#DejaVuSans-117\"/>\n      <use x=\"239.998047\" xlink:href=\"#DejaVuSans-114\"/>\n      <use x=\"281.111328\" xlink:href=\"#DejaVuSans-97\"/>\n      <use x=\"342.390625\" xlink:href=\"#DejaVuSans-99\"/>\n      <use x=\"397.371094\" xlink:href=\"#DejaVuSans-121\"/>\n     </g>\n    </g>\n    <g id=\"patch_33\">\n     <path d=\"M 970.476562 56.722344 \nL 992.476562 56.722344 \nL 992.476562 49.022344 \nL 970.476562 49.022344 \nz\n\" style=\"fill:#dd8452;stroke:#ffffff;stroke-linejoin:miter;\"/>\n    </g>\n    <g id=\"text_16\">\n     <!-- Precision -->\n     <g style=\"fill:#262626;\" transform=\"translate(1001.276562 56.722344)scale(0.11 -0.11)\">\n      <use xlink:href=\"#DejaVuSans-80\"/>\n      <use x=\"58.552734\" xlink:href=\"#DejaVuSans-114\"/>\n      <use x=\"97.416016\" xlink:href=\"#DejaVuSans-101\"/>\n      <use x=\"158.939453\" xlink:href=\"#DejaVuSans-99\"/>\n      <use x=\"213.919922\" xlink:href=\"#DejaVuSans-105\"/>\n      <use x=\"241.703125\" xlink:href=\"#DejaVuSans-115\"/>\n      <use x=\"293.802734\" xlink:href=\"#DejaVuSans-105\"/>\n      <use x=\"321.585938\" xlink:href=\"#DejaVuSans-111\"/>\n      <use x=\"382.767578\" xlink:href=\"#DejaVuSans-110\"/>\n     </g>\n    </g>\n    <g id=\"patch_34\">\n     <path d=\"M 970.476562 72.868281 \nL 992.476562 72.868281 \nL 992.476562 65.168281 \nL 970.476562 65.168281 \nz\n\" style=\"fill:#55a868;stroke:#ffffff;stroke-linejoin:miter;\"/>\n    </g>\n    <g id=\"text_17\">\n     <!-- Recall -->\n     <g style=\"fill:#262626;\" transform=\"translate(1001.276562 72.868281)scale(0.11 -0.11)\">\n      <defs>\n       <path d=\"M 44.390625 34.1875 \nQ 47.5625 33.109375 50.5625 29.59375 \nQ 53.5625 26.078125 56.59375 19.921875 \nL 66.609375 0 \nL 56 0 \nL 46.6875 18.703125 \nQ 43.0625 26.03125 39.671875 28.421875 \nQ 36.28125 30.8125 30.421875 30.8125 \nL 19.671875 30.8125 \nL 19.671875 0 \nL 9.8125 0 \nL 9.8125 72.90625 \nL 32.078125 72.90625 \nQ 44.578125 72.90625 50.734375 67.671875 \nQ 56.890625 62.453125 56.890625 51.90625 \nQ 56.890625 45.015625 53.6875 40.46875 \nQ 50.484375 35.9375 44.390625 34.1875 \nz\nM 19.671875 64.796875 \nL 19.671875 38.921875 \nL 32.078125 38.921875 \nQ 39.203125 38.921875 42.84375 42.21875 \nQ 46.484375 45.515625 46.484375 51.90625 \nQ 46.484375 58.296875 42.84375 61.546875 \nQ 39.203125 64.796875 32.078125 64.796875 \nz\n\" id=\"DejaVuSans-82\"/>\n      </defs>\n      <use xlink:href=\"#DejaVuSans-82\"/>\n      <use x=\"64.982422\" xlink:href=\"#DejaVuSans-101\"/>\n      <use x=\"126.505859\" xlink:href=\"#DejaVuSans-99\"/>\n      <use x=\"181.486328\" xlink:href=\"#DejaVuSans-97\"/>\n      <use x=\"242.765625\" xlink:href=\"#DejaVuSans-108\"/>\n      <use x=\"270.548828\" xlink:href=\"#DejaVuSans-108\"/>\n     </g>\n    </g>\n    <g id=\"patch_35\">\n     <path d=\"M 970.476562 89.014219 \nL 992.476562 89.014219 \nL 992.476562 81.314219 \nL 970.476562 81.314219 \nz\n\" style=\"fill:#c44e52;stroke:#ffffff;stroke-linejoin:miter;\"/>\n    </g>\n    <g id=\"text_18\">\n     <!-- F1 -->\n     <g style=\"fill:#262626;\" transform=\"translate(1001.276562 89.014219)scale(0.11 -0.11)\">\n      <defs>\n       <path d=\"M 9.8125 72.90625 \nL 51.703125 72.90625 \nL 51.703125 64.59375 \nL 19.671875 64.59375 \nL 19.671875 43.109375 \nL 48.578125 43.109375 \nL 48.578125 34.8125 \nL 19.671875 34.8125 \nL 19.671875 0 \nL 9.8125 0 \nz\n\" id=\"DejaVuSans-70\"/>\n      </defs>\n      <use xlink:href=\"#DejaVuSans-70\"/>\n      <use x=\"57.519531\" xlink:href=\"#DejaVuSans-49\"/>\n     </g>\n    </g>\n   </g>\n  </g>\n </g>\n <defs>\n  <clipPath id=\"p2bd1b0c0b4\">\n   <rect height=\"496.67375\" width=\"1027.205\" x=\"34.193438\" y=\"22.318125\"/>\n  </clipPath>\n </defs>\n</svg>\n",
      "image/png": "[encoded data removed]"
     },
     "metadata": {}
    }
   ],
   "source": [
    "fig, ax = plt.subplots(figsize=(15,8))\n",
    "df_score_mean.plot.bar(yerr=df_score_std, ax=ax, rot=0, capsize=4, ylim=(0,1))\n",
    "plt.title('Classifier Performance Comparision')\n",
    "plt.legend(loc='upper right')\n",
    "plt.tight_layout()\n",
    "plt.savefig('Classifier-Score-Bar-Plot.png')"
   ]
  },
  {
   "cell_type": "code",
   "execution_count": 88,
   "metadata": {},
   "outputs": [
    {
     "output_type": "execute_result",
     "data": {
      "text/plain": [
       "0.0"
      ]
     },
     "metadata": {},
     "execution_count": 88
    }
   ],
   "source": [
    "# Modified Paired T-Test\n",
    "# https://medium.com/analytics-vidhya/using-the-corrected-paired-students-t-test-for-comparing-the-performance-of-machine-learning-dc6529eaa97f\n",
    "\n",
    "diff = [y - x for y,x in zip(df_scores_grouped.get_group('cnn')['F1'], df_scores_grouped.get_group('svm_ovr')['F1'])]\n",
    "d_bar = np.mean(diff)\n",
    "sigma = np.var(diff)\n",
    "n1 = 5000*0.8\n",
    "n2 = 5000*0.2\n",
    "n = 5000\n",
    "\n",
    "sigma_mod = sigma * (1/n + n2/n1)\n",
    "\n",
    "t_statistic = d_bar / np.sqrt(sigma_mod)\n",
    "\n",
    "from scipy.stats import t\n",
    "\n",
    "Pvalue = ((1-t.cdf(t_statistic, n-1)) * 200)"
   ]
  },
  {
   "cell_type": "code",
   "execution_count": 90,
   "metadata": {},
   "outputs": [],
   "source": [
    "cnn_final = clfs['tuner'].get_best_models(num_models=1)[0]\n",
    "random_forest_final = RandomForestClassifier(n_estimators=200, random_state=42)"
   ]
  },
  {
   "cell_type": "code",
   "execution_count": 99,
   "metadata": {},
   "outputs": [
    {
     "output_type": "stream",
     "name": "stdout",
     "text": [
      "Epoch 1/5\n",
      "32/32 [==============================] - 1s 33ms/step - loss: 0.1088 - accuracy: 0.9710 - val_loss: 3.9302 - val_accuracy: 0.4986\n",
      "Epoch 2/5\n",
      "32/32 [==============================] - 1s 30ms/step - loss: 0.0328 - accuracy: 0.9900 - val_loss: 3.2280 - val_accuracy: 0.4994\n",
      "Epoch 3/5\n",
      "32/32 [==============================] - 1s 29ms/step - loss: 0.0240 - accuracy: 0.9900 - val_loss: 4.0679 - val_accuracy: 0.5011\n",
      "Epoch 4/5\n",
      "32/32 [==============================] - 1s 30ms/step - loss: 0.0088 - accuracy: 0.9960 - val_loss: 3.8101 - val_accuracy: 0.5054\n",
      "Epoch 5/5\n",
      "32/32 [==============================] - 1s 30ms/step - loss: 0.0092 - accuracy: 0.9970 - val_loss: 4.0799 - val_accuracy: 0.4959\n"
     ]
    },
    {
     "output_type": "execute_result",
     "data": {
      "text/plain": [
       "<matplotlib.legend.Legend at 0x7f320bc39310>"
      ]
     },
     "metadata": {},
     "execution_count": 99
    },
    {
     "output_type": "display_data",
     "data": {
      "text/plain": "<Figure size 432x288 with 1 Axes>",
      "image/svg+xml": "<?xml version=\"1.0\" encoding=\"utf-8\" standalone=\"no\"?>\n<!DOCTYPE svg PUBLIC \"-//W3C//DTD SVG 1.1//EN\"\n  \"http://www.w3.org/Graphics/SVG/1.1/DTD/svg11.dtd\">\n<!-- Created with matplotlib (https://matplotlib.org/) -->\n<svg height=\"271.778828pt\" version=\"1.1\" viewBox=\"0 0 391.807187 271.778828\" width=\"391.807187pt\" xmlns=\"http://www.w3.org/2000/svg\" xmlns:xlink=\"http://www.w3.org/1999/xlink\">\n <metadata>\n  <rdf:RDF xmlns:cc=\"http://creativecommons.org/ns#\" xmlns:dc=\"http://purl.org/dc/elements/1.1/\" xmlns:rdf=\"http://www.w3.org/1999/02/22-rdf-syntax-ns#\">\n   <cc:Work>\n    <dc:type rdf:resource=\"http://purl.org/dc/dcmitype/StillImage\"/>\n    <dc:date>2020-11-30T19:45:18.600595</dc:date>\n    <dc:format>image/svg+xml</dc:format>\n    <dc:creator>\n     <cc:Agent>\n      <dc:title>Matplotlib v3.3.2, https://matplotlib.org/</dc:title>\n     </cc:Agent>\n    </dc:creator>\n   </cc:Work>\n  </rdf:RDF>\n </metadata>\n <defs>\n  <style type=\"text/css\">*{stroke-linecap:butt;stroke-linejoin:round;}</style>\n </defs>\n <g id=\"figure_1\">\n  <g id=\"patch_1\">\n   <path d=\"M 0 271.778828 \nL 391.807187 271.778828 \nL 391.807187 0 \nL 0 0 \nz\n\" style=\"fill:#ffffff;\"/>\n  </g>\n  <g id=\"axes_1\">\n   <g id=\"patch_2\">\n    <path d=\"M 49.807187 228.819141 \nL 384.607188 228.819141 \nL 384.607188 11.379141 \nL 49.807187 11.379141 \nz\n\" style=\"fill:#eaeaf2;\"/>\n   </g>\n   <g id=\"matplotlib.axis_1\">\n    <g id=\"xtick_1\">\n     <g id=\"line2d_1\">\n      <path clip-path=\"url(#pa663fe4d95)\" d=\"M 65.025369 228.819141 \nL 65.025369 11.379141 \n\" style=\"fill:none;stroke:#ffffff;stroke-linecap:round;\"/>\n     </g>\n     <g id=\"text_1\">\n      <!-- 0.0 -->\n      <g style=\"fill:#262626;\" transform=\"translate(56.278651 246.677422)scale(0.11 -0.11)\">\n       <defs>\n        <path d=\"M 31.78125 66.40625 \nQ 24.171875 66.40625 20.328125 58.90625 \nQ 16.5 51.421875 16.5 36.375 \nQ 16.5 21.390625 20.328125 13.890625 \nQ 24.171875 6.390625 31.78125 6.390625 \nQ 39.453125 6.390625 43.28125 13.890625 \nQ 47.125 21.390625 47.125 36.375 \nQ 47.125 51.421875 43.28125 58.90625 \nQ 39.453125 66.40625 31.78125 66.40625 \nz\nM 31.78125 74.21875 \nQ 44.046875 74.21875 50.515625 64.515625 \nQ 56.984375 54.828125 56.984375 36.375 \nQ 56.984375 17.96875 50.515625 8.265625 \nQ 44.046875 -1.421875 31.78125 -1.421875 \nQ 19.53125 -1.421875 13.0625 8.265625 \nQ 6.59375 17.96875 6.59375 36.375 \nQ 6.59375 54.828125 13.0625 64.515625 \nQ 19.53125 74.21875 31.78125 74.21875 \nz\n\" id=\"DejaVuSans-48\"/>\n        <path d=\"M 10.6875 12.40625 \nL 21 12.40625 \nL 21 0 \nL 10.6875 0 \nz\n\" id=\"DejaVuSans-46\"/>\n       </defs>\n       <use xlink:href=\"#DejaVuSans-48\"/>\n       <use x=\"63.623047\" xlink:href=\"#DejaVuSans-46\"/>\n       <use x=\"95.410156\" xlink:href=\"#DejaVuSans-48\"/>\n      </g>\n     </g>\n    </g>\n    <g id=\"xtick_2\">\n     <g id=\"line2d_2\">\n      <path clip-path=\"url(#pa663fe4d95)\" d=\"M 103.070824 228.819141 \nL 103.070824 11.379141 \n\" style=\"fill:none;stroke:#ffffff;stroke-linecap:round;\"/>\n     </g>\n     <g id=\"text_2\">\n      <!-- 0.5 -->\n      <g style=\"fill:#262626;\" transform=\"translate(94.324105 246.677422)scale(0.11 -0.11)\">\n       <defs>\n        <path d=\"M 10.796875 72.90625 \nL 49.515625 72.90625 \nL 49.515625 64.59375 \nL 19.828125 64.59375 \nL 19.828125 46.734375 \nQ 21.96875 47.46875 24.109375 47.828125 \nQ 26.265625 48.1875 28.421875 48.1875 \nQ 40.625 48.1875 47.75 41.5 \nQ 54.890625 34.8125 54.890625 23.390625 \nQ 54.890625 11.625 47.5625 5.09375 \nQ 40.234375 -1.421875 26.90625 -1.421875 \nQ 22.3125 -1.421875 17.546875 -0.640625 \nQ 12.796875 0.140625 7.71875 1.703125 \nL 7.71875 11.625 \nQ 12.109375 9.234375 16.796875 8.0625 \nQ 21.484375 6.890625 26.703125 6.890625 \nQ 35.15625 6.890625 40.078125 11.328125 \nQ 45.015625 15.765625 45.015625 23.390625 \nQ 45.015625 31 40.078125 35.4375 \nQ 35.15625 39.890625 26.703125 39.890625 \nQ 22.75 39.890625 18.8125 39.015625 \nQ 14.890625 38.140625 10.796875 36.28125 \nz\n\" id=\"DejaVuSans-53\"/>\n       </defs>\n       <use xlink:href=\"#DejaVuSans-48\"/>\n       <use x=\"63.623047\" xlink:href=\"#DejaVuSans-46\"/>\n       <use x=\"95.410156\" xlink:href=\"#DejaVuSans-53\"/>\n      </g>\n     </g>\n    </g>\n    <g id=\"xtick_3\">\n     <g id=\"line2d_3\">\n      <path clip-path=\"url(#pa663fe4d95)\" d=\"M 141.116278 228.819141 \nL 141.116278 11.379141 \n\" style=\"fill:none;stroke:#ffffff;stroke-linecap:round;\"/>\n     </g>\n     <g id=\"text_3\">\n      <!-- 1.0 -->\n      <g style=\"fill:#262626;\" transform=\"translate(132.36956 246.677422)scale(0.11 -0.11)\">\n       <defs>\n        <path d=\"M 12.40625 8.296875 \nL 28.515625 8.296875 \nL 28.515625 63.921875 \nL 10.984375 60.40625 \nL 10.984375 69.390625 \nL 28.421875 72.90625 \nL 38.28125 72.90625 \nL 38.28125 8.296875 \nL 54.390625 8.296875 \nL 54.390625 0 \nL 12.40625 0 \nz\n\" id=\"DejaVuSans-49\"/>\n       </defs>\n       <use xlink:href=\"#DejaVuSans-49\"/>\n       <use x=\"63.623047\" xlink:href=\"#DejaVuSans-46\"/>\n       <use x=\"95.410156\" xlink:href=\"#DejaVuSans-48\"/>\n      </g>\n     </g>\n    </g>\n    <g id=\"xtick_4\">\n     <g id=\"line2d_4\">\n      <path clip-path=\"url(#pa663fe4d95)\" d=\"M 179.161733 228.819141 \nL 179.161733 11.379141 \n\" style=\"fill:none;stroke:#ffffff;stroke-linecap:round;\"/>\n     </g>\n     <g id=\"text_4\">\n      <!-- 1.5 -->\n      <g style=\"fill:#262626;\" transform=\"translate(170.415014 246.677422)scale(0.11 -0.11)\">\n       <use xlink:href=\"#DejaVuSans-49\"/>\n       <use x=\"63.623047\" xlink:href=\"#DejaVuSans-46\"/>\n       <use x=\"95.410156\" xlink:href=\"#DejaVuSans-53\"/>\n      </g>\n     </g>\n    </g>\n    <g id=\"xtick_5\">\n     <g id=\"line2d_5\">\n      <path clip-path=\"url(#pa663fe4d95)\" d=\"M 217.207188 228.819141 \nL 217.207188 11.379141 \n\" style=\"fill:none;stroke:#ffffff;stroke-linecap:round;\"/>\n     </g>\n     <g id=\"text_5\">\n      <!-- 2.0 -->\n      <g style=\"fill:#262626;\" transform=\"translate(208.460469 246.677422)scale(0.11 -0.11)\">\n       <defs>\n        <path d=\"M 19.1875 8.296875 \nL 53.609375 8.296875 \nL 53.609375 0 \nL 7.328125 0 \nL 7.328125 8.296875 \nQ 12.9375 14.109375 22.625 23.890625 \nQ 32.328125 33.6875 34.8125 36.53125 \nQ 39.546875 41.84375 41.421875 45.53125 \nQ 43.3125 49.21875 43.3125 52.78125 \nQ 43.3125 58.59375 39.234375 62.25 \nQ 35.15625 65.921875 28.609375 65.921875 \nQ 23.96875 65.921875 18.8125 64.3125 \nQ 13.671875 62.703125 7.8125 59.421875 \nL 7.8125 69.390625 \nQ 13.765625 71.78125 18.9375 73 \nQ 24.125 74.21875 28.421875 74.21875 \nQ 39.75 74.21875 46.484375 68.546875 \nQ 53.21875 62.890625 53.21875 53.421875 \nQ 53.21875 48.921875 51.53125 44.890625 \nQ 49.859375 40.875 45.40625 35.40625 \nQ 44.1875 33.984375 37.640625 27.21875 \nQ 31.109375 20.453125 19.1875 8.296875 \nz\n\" id=\"DejaVuSans-50\"/>\n       </defs>\n       <use xlink:href=\"#DejaVuSans-50\"/>\n       <use x=\"63.623047\" xlink:href=\"#DejaVuSans-46\"/>\n       <use x=\"95.410156\" xlink:href=\"#DejaVuSans-48\"/>\n      </g>\n     </g>\n    </g>\n    <g id=\"xtick_6\">\n     <g id=\"line2d_6\">\n      <path clip-path=\"url(#pa663fe4d95)\" d=\"M 255.252642 228.819141 \nL 255.252642 11.379141 \n\" style=\"fill:none;stroke:#ffffff;stroke-linecap:round;\"/>\n     </g>\n     <g id=\"text_6\">\n      <!-- 2.5 -->\n      <g style=\"fill:#262626;\" transform=\"translate(246.505923 246.677422)scale(0.11 -0.11)\">\n       <use xlink:href=\"#DejaVuSans-50\"/>\n       <use x=\"63.623047\" xlink:href=\"#DejaVuSans-46\"/>\n       <use x=\"95.410156\" xlink:href=\"#DejaVuSans-53\"/>\n      </g>\n     </g>\n    </g>\n    <g id=\"xtick_7\">\n     <g id=\"line2d_7\">\n      <path clip-path=\"url(#pa663fe4d95)\" d=\"M 293.298097 228.819141 \nL 293.298097 11.379141 \n\" style=\"fill:none;stroke:#ffffff;stroke-linecap:round;\"/>\n     </g>\n     <g id=\"text_7\">\n      <!-- 3.0 -->\n      <g style=\"fill:#262626;\" transform=\"translate(284.551378 246.677422)scale(0.11 -0.11)\">\n       <defs>\n        <path d=\"M 40.578125 39.3125 \nQ 47.65625 37.796875 51.625 33 \nQ 55.609375 28.21875 55.609375 21.1875 \nQ 55.609375 10.40625 48.1875 4.484375 \nQ 40.765625 -1.421875 27.09375 -1.421875 \nQ 22.515625 -1.421875 17.65625 -0.515625 \nQ 12.796875 0.390625 7.625 2.203125 \nL 7.625 11.71875 \nQ 11.71875 9.328125 16.59375 8.109375 \nQ 21.484375 6.890625 26.8125 6.890625 \nQ 36.078125 6.890625 40.9375 10.546875 \nQ 45.796875 14.203125 45.796875 21.1875 \nQ 45.796875 27.640625 41.28125 31.265625 \nQ 36.765625 34.90625 28.71875 34.90625 \nL 20.21875 34.90625 \nL 20.21875 43.015625 \nL 29.109375 43.015625 \nQ 36.375 43.015625 40.234375 45.921875 \nQ 44.09375 48.828125 44.09375 54.296875 \nQ 44.09375 59.90625 40.109375 62.90625 \nQ 36.140625 65.921875 28.71875 65.921875 \nQ 24.65625 65.921875 20.015625 65.03125 \nQ 15.375 64.15625 9.8125 62.3125 \nL 9.8125 71.09375 \nQ 15.4375 72.65625 20.34375 73.4375 \nQ 25.25 74.21875 29.59375 74.21875 \nQ 40.828125 74.21875 47.359375 69.109375 \nQ 53.90625 64.015625 53.90625 55.328125 \nQ 53.90625 49.265625 50.4375 45.09375 \nQ 46.96875 40.921875 40.578125 39.3125 \nz\n\" id=\"DejaVuSans-51\"/>\n       </defs>\n       <use xlink:href=\"#DejaVuSans-51\"/>\n       <use x=\"63.623047\" xlink:href=\"#DejaVuSans-46\"/>\n       <use x=\"95.410156\" xlink:href=\"#DejaVuSans-48\"/>\n      </g>\n     </g>\n    </g>\n    <g id=\"xtick_8\">\n     <g id=\"line2d_8\">\n      <path clip-path=\"url(#pa663fe4d95)\" d=\"M 331.343551 228.819141 \nL 331.343551 11.379141 \n\" style=\"fill:none;stroke:#ffffff;stroke-linecap:round;\"/>\n     </g>\n     <g id=\"text_8\">\n      <!-- 3.5 -->\n      <g style=\"fill:#262626;\" transform=\"translate(322.596832 246.677422)scale(0.11 -0.11)\">\n       <use xlink:href=\"#DejaVuSans-51\"/>\n       <use x=\"63.623047\" xlink:href=\"#DejaVuSans-46\"/>\n       <use x=\"95.410156\" xlink:href=\"#DejaVuSans-53\"/>\n      </g>\n     </g>\n    </g>\n    <g id=\"xtick_9\">\n     <g id=\"line2d_9\">\n      <path clip-path=\"url(#pa663fe4d95)\" d=\"M 369.389006 228.819141 \nL 369.389006 11.379141 \n\" style=\"fill:none;stroke:#ffffff;stroke-linecap:round;\"/>\n     </g>\n     <g id=\"text_9\">\n      <!-- 4.0 -->\n      <g style=\"fill:#262626;\" transform=\"translate(360.642287 246.677422)scale(0.11 -0.11)\">\n       <defs>\n        <path d=\"M 37.796875 64.3125 \nL 12.890625 25.390625 \nL 37.796875 25.390625 \nz\nM 35.203125 72.90625 \nL 47.609375 72.90625 \nL 47.609375 25.390625 \nL 58.015625 25.390625 \nL 58.015625 17.1875 \nL 47.609375 17.1875 \nL 47.609375 0 \nL 37.796875 0 \nL 37.796875 17.1875 \nL 4.890625 17.1875 \nL 4.890625 26.703125 \nz\n\" id=\"DejaVuSans-52\"/>\n       </defs>\n       <use xlink:href=\"#DejaVuSans-52\"/>\n       <use x=\"63.623047\" xlink:href=\"#DejaVuSans-46\"/>\n       <use x=\"95.410156\" xlink:href=\"#DejaVuSans-48\"/>\n      </g>\n     </g>\n    </g>\n    <g id=\"text_10\">\n     <!-- Epoch -->\n     <g style=\"fill:#262626;\" transform=\"translate(198.834063 262.083203)scale(0.12 -0.12)\">\n      <defs>\n       <path d=\"M 9.8125 72.90625 \nL 55.90625 72.90625 \nL 55.90625 64.59375 \nL 19.671875 64.59375 \nL 19.671875 43.015625 \nL 54.390625 43.015625 \nL 54.390625 34.71875 \nL 19.671875 34.71875 \nL 19.671875 8.296875 \nL 56.78125 8.296875 \nL 56.78125 0 \nL 9.8125 0 \nz\n\" id=\"DejaVuSans-69\"/>\n       <path d=\"M 18.109375 8.203125 \nL 18.109375 -20.796875 \nL 9.078125 -20.796875 \nL 9.078125 54.6875 \nL 18.109375 54.6875 \nL 18.109375 46.390625 \nQ 20.953125 51.265625 25.265625 53.625 \nQ 29.59375 56 35.59375 56 \nQ 45.5625 56 51.78125 48.09375 \nQ 58.015625 40.1875 58.015625 27.296875 \nQ 58.015625 14.40625 51.78125 6.484375 \nQ 45.5625 -1.421875 35.59375 -1.421875 \nQ 29.59375 -1.421875 25.265625 0.953125 \nQ 20.953125 3.328125 18.109375 8.203125 \nz\nM 48.6875 27.296875 \nQ 48.6875 37.203125 44.609375 42.84375 \nQ 40.53125 48.484375 33.40625 48.484375 \nQ 26.265625 48.484375 22.1875 42.84375 \nQ 18.109375 37.203125 18.109375 27.296875 \nQ 18.109375 17.390625 22.1875 11.75 \nQ 26.265625 6.109375 33.40625 6.109375 \nQ 40.53125 6.109375 44.609375 11.75 \nQ 48.6875 17.390625 48.6875 27.296875 \nz\n\" id=\"DejaVuSans-112\"/>\n       <path d=\"M 30.609375 48.390625 \nQ 23.390625 48.390625 19.1875 42.75 \nQ 14.984375 37.109375 14.984375 27.296875 \nQ 14.984375 17.484375 19.15625 11.84375 \nQ 23.34375 6.203125 30.609375 6.203125 \nQ 37.796875 6.203125 41.984375 11.859375 \nQ 46.1875 17.53125 46.1875 27.296875 \nQ 46.1875 37.015625 41.984375 42.703125 \nQ 37.796875 48.390625 30.609375 48.390625 \nz\nM 30.609375 56 \nQ 42.328125 56 49.015625 48.375 \nQ 55.71875 40.765625 55.71875 27.296875 \nQ 55.71875 13.875 49.015625 6.21875 \nQ 42.328125 -1.421875 30.609375 -1.421875 \nQ 18.84375 -1.421875 12.171875 6.21875 \nQ 5.515625 13.875 5.515625 27.296875 \nQ 5.515625 40.765625 12.171875 48.375 \nQ 18.84375 56 30.609375 56 \nz\n\" id=\"DejaVuSans-111\"/>\n       <path d=\"M 48.78125 52.59375 \nL 48.78125 44.1875 \nQ 44.96875 46.296875 41.140625 47.34375 \nQ 37.3125 48.390625 33.40625 48.390625 \nQ 24.65625 48.390625 19.8125 42.84375 \nQ 14.984375 37.3125 14.984375 27.296875 \nQ 14.984375 17.28125 19.8125 11.734375 \nQ 24.65625 6.203125 33.40625 6.203125 \nQ 37.3125 6.203125 41.140625 7.25 \nQ 44.96875 8.296875 48.78125 10.40625 \nL 48.78125 2.09375 \nQ 45.015625 0.34375 40.984375 -0.53125 \nQ 36.96875 -1.421875 32.421875 -1.421875 \nQ 20.0625 -1.421875 12.78125 6.34375 \nQ 5.515625 14.109375 5.515625 27.296875 \nQ 5.515625 40.671875 12.859375 48.328125 \nQ 20.21875 56 33.015625 56 \nQ 37.15625 56 41.109375 55.140625 \nQ 45.0625 54.296875 48.78125 52.59375 \nz\n\" id=\"DejaVuSans-99\"/>\n       <path d=\"M 54.890625 33.015625 \nL 54.890625 0 \nL 45.90625 0 \nL 45.90625 32.71875 \nQ 45.90625 40.484375 42.875 44.328125 \nQ 39.84375 48.1875 33.796875 48.1875 \nQ 26.515625 48.1875 22.3125 43.546875 \nQ 18.109375 38.921875 18.109375 30.90625 \nL 18.109375 0 \nL 9.078125 0 \nL 9.078125 75.984375 \nL 18.109375 75.984375 \nL 18.109375 46.1875 \nQ 21.34375 51.125 25.703125 53.5625 \nQ 30.078125 56 35.796875 56 \nQ 45.21875 56 50.046875 50.171875 \nQ 54.890625 44.34375 54.890625 33.015625 \nz\n\" id=\"DejaVuSans-104\"/>\n      </defs>\n      <use xlink:href=\"#DejaVuSans-69\"/>\n      <use x=\"63.183594\" xlink:href=\"#DejaVuSans-112\"/>\n      <use x=\"126.660156\" xlink:href=\"#DejaVuSans-111\"/>\n      <use x=\"187.841797\" xlink:href=\"#DejaVuSans-99\"/>\n      <use x=\"242.822266\" xlink:href=\"#DejaVuSans-104\"/>\n     </g>\n    </g>\n   </g>\n   <g id=\"matplotlib.axis_2\">\n    <g id=\"ytick_1\">\n     <g id=\"line2d_10\">\n      <path clip-path=\"url(#pa663fe4d95)\" d=\"M 49.807187 228.819141 \nL 384.607188 228.819141 \n\" style=\"fill:none;stroke:#ffffff;stroke-linecap:round;\"/>\n     </g>\n     <g id=\"text_11\">\n      <!-- 0.2 -->\n      <g style=\"fill:#262626;\" transform=\"translate(22.81375 232.998281)scale(0.11 -0.11)\">\n       <use xlink:href=\"#DejaVuSans-48\"/>\n       <use x=\"63.623047\" xlink:href=\"#DejaVuSans-46\"/>\n       <use x=\"95.410156\" xlink:href=\"#DejaVuSans-50\"/>\n      </g>\n     </g>\n    </g>\n    <g id=\"ytick_2\">\n     <g id=\"line2d_11\">\n      <path clip-path=\"url(#pa663fe4d95)\" d=\"M 49.807187 201.639141 \nL 384.607188 201.639141 \n\" style=\"fill:none;stroke:#ffffff;stroke-linecap:round;\"/>\n     </g>\n     <g id=\"text_12\">\n      <!-- 0.3 -->\n      <g style=\"fill:#262626;\" transform=\"translate(22.81375 205.818281)scale(0.11 -0.11)\">\n       <use xlink:href=\"#DejaVuSans-48\"/>\n       <use x=\"63.623047\" xlink:href=\"#DejaVuSans-46\"/>\n       <use x=\"95.410156\" xlink:href=\"#DejaVuSans-51\"/>\n      </g>\n     </g>\n    </g>\n    <g id=\"ytick_3\">\n     <g id=\"line2d_12\">\n      <path clip-path=\"url(#pa663fe4d95)\" d=\"M 49.807187 174.459141 \nL 384.607188 174.459141 \n\" style=\"fill:none;stroke:#ffffff;stroke-linecap:round;\"/>\n     </g>\n     <g id=\"text_13\">\n      <!-- 0.4 -->\n      <g style=\"fill:#262626;\" transform=\"translate(22.81375 178.638281)scale(0.11 -0.11)\">\n       <use xlink:href=\"#DejaVuSans-48\"/>\n       <use x=\"63.623047\" xlink:href=\"#DejaVuSans-46\"/>\n       <use x=\"95.410156\" xlink:href=\"#DejaVuSans-52\"/>\n      </g>\n     </g>\n    </g>\n    <g id=\"ytick_4\">\n     <g id=\"line2d_13\">\n      <path clip-path=\"url(#pa663fe4d95)\" d=\"M 49.807187 147.279141 \nL 384.607188 147.279141 \n\" style=\"fill:none;stroke:#ffffff;stroke-linecap:round;\"/>\n     </g>\n     <g id=\"text_14\">\n      <!-- 0.5 -->\n      <g style=\"fill:#262626;\" transform=\"translate(22.81375 151.458281)scale(0.11 -0.11)\">\n       <use xlink:href=\"#DejaVuSans-48\"/>\n       <use x=\"63.623047\" xlink:href=\"#DejaVuSans-46\"/>\n       <use x=\"95.410156\" xlink:href=\"#DejaVuSans-53\"/>\n      </g>\n     </g>\n    </g>\n    <g id=\"ytick_5\">\n     <g id=\"line2d_14\">\n      <path clip-path=\"url(#pa663fe4d95)\" d=\"M 49.807187 120.099141 \nL 384.607188 120.099141 \n\" style=\"fill:none;stroke:#ffffff;stroke-linecap:round;\"/>\n     </g>\n     <g id=\"text_15\">\n      <!-- 0.6 -->\n      <g style=\"fill:#262626;\" transform=\"translate(22.81375 124.278281)scale(0.11 -0.11)\">\n       <defs>\n        <path d=\"M 33.015625 40.375 \nQ 26.375 40.375 22.484375 35.828125 \nQ 18.609375 31.296875 18.609375 23.390625 \nQ 18.609375 15.53125 22.484375 10.953125 \nQ 26.375 6.390625 33.015625 6.390625 \nQ 39.65625 6.390625 43.53125 10.953125 \nQ 47.40625 15.53125 47.40625 23.390625 \nQ 47.40625 31.296875 43.53125 35.828125 \nQ 39.65625 40.375 33.015625 40.375 \nz\nM 52.59375 71.296875 \nL 52.59375 62.3125 \nQ 48.875 64.0625 45.09375 64.984375 \nQ 41.3125 65.921875 37.59375 65.921875 \nQ 27.828125 65.921875 22.671875 59.328125 \nQ 17.53125 52.734375 16.796875 39.40625 \nQ 19.671875 43.65625 24.015625 45.921875 \nQ 28.375 48.1875 33.59375 48.1875 \nQ 44.578125 48.1875 50.953125 41.515625 \nQ 57.328125 34.859375 57.328125 23.390625 \nQ 57.328125 12.15625 50.6875 5.359375 \nQ 44.046875 -1.421875 33.015625 -1.421875 \nQ 20.359375 -1.421875 13.671875 8.265625 \nQ 6.984375 17.96875 6.984375 36.375 \nQ 6.984375 53.65625 15.1875 63.9375 \nQ 23.390625 74.21875 37.203125 74.21875 \nQ 40.921875 74.21875 44.703125 73.484375 \nQ 48.484375 72.75 52.59375 71.296875 \nz\n\" id=\"DejaVuSans-54\"/>\n       </defs>\n       <use xlink:href=\"#DejaVuSans-48\"/>\n       <use x=\"63.623047\" xlink:href=\"#DejaVuSans-46\"/>\n       <use x=\"95.410156\" xlink:href=\"#DejaVuSans-54\"/>\n      </g>\n     </g>\n    </g>\n    <g id=\"ytick_6\">\n     <g id=\"line2d_15\">\n      <path clip-path=\"url(#pa663fe4d95)\" d=\"M 49.807187 92.919141 \nL 384.607188 92.919141 \n\" style=\"fill:none;stroke:#ffffff;stroke-linecap:round;\"/>\n     </g>\n     <g id=\"text_16\">\n      <!-- 0.7 -->\n      <g style=\"fill:#262626;\" transform=\"translate(22.81375 97.098281)scale(0.11 -0.11)\">\n       <defs>\n        <path d=\"M 8.203125 72.90625 \nL 55.078125 72.90625 \nL 55.078125 68.703125 \nL 28.609375 0 \nL 18.3125 0 \nL 43.21875 64.59375 \nL 8.203125 64.59375 \nz\n\" id=\"DejaVuSans-55\"/>\n       </defs>\n       <use xlink:href=\"#DejaVuSans-48\"/>\n       <use x=\"63.623047\" xlink:href=\"#DejaVuSans-46\"/>\n       <use x=\"95.410156\" xlink:href=\"#DejaVuSans-55\"/>\n      </g>\n     </g>\n    </g>\n    <g id=\"ytick_7\">\n     <g id=\"line2d_16\">\n      <path clip-path=\"url(#pa663fe4d95)\" d=\"M 49.807187 65.739141 \nL 384.607188 65.739141 \n\" style=\"fill:none;stroke:#ffffff;stroke-linecap:round;\"/>\n     </g>\n     <g id=\"text_17\">\n      <!-- 0.8 -->\n      <g style=\"fill:#262626;\" transform=\"translate(22.81375 69.918281)scale(0.11 -0.11)\">\n       <defs>\n        <path d=\"M 31.78125 34.625 \nQ 24.75 34.625 20.71875 30.859375 \nQ 16.703125 27.09375 16.703125 20.515625 \nQ 16.703125 13.921875 20.71875 10.15625 \nQ 24.75 6.390625 31.78125 6.390625 \nQ 38.8125 6.390625 42.859375 10.171875 \nQ 46.921875 13.96875 46.921875 20.515625 \nQ 46.921875 27.09375 42.890625 30.859375 \nQ 38.875 34.625 31.78125 34.625 \nz\nM 21.921875 38.8125 \nQ 15.578125 40.375 12.03125 44.71875 \nQ 8.5 49.078125 8.5 55.328125 \nQ 8.5 64.0625 14.71875 69.140625 \nQ 20.953125 74.21875 31.78125 74.21875 \nQ 42.671875 74.21875 48.875 69.140625 \nQ 55.078125 64.0625 55.078125 55.328125 \nQ 55.078125 49.078125 51.53125 44.71875 \nQ 48 40.375 41.703125 38.8125 \nQ 48.828125 37.15625 52.796875 32.3125 \nQ 56.78125 27.484375 56.78125 20.515625 \nQ 56.78125 9.90625 50.3125 4.234375 \nQ 43.84375 -1.421875 31.78125 -1.421875 \nQ 19.734375 -1.421875 13.25 4.234375 \nQ 6.78125 9.90625 6.78125 20.515625 \nQ 6.78125 27.484375 10.78125 32.3125 \nQ 14.796875 37.15625 21.921875 38.8125 \nz\nM 18.3125 54.390625 \nQ 18.3125 48.734375 21.84375 45.5625 \nQ 25.390625 42.390625 31.78125 42.390625 \nQ 38.140625 42.390625 41.71875 45.5625 \nQ 45.3125 48.734375 45.3125 54.390625 \nQ 45.3125 60.0625 41.71875 63.234375 \nQ 38.140625 66.40625 31.78125 66.40625 \nQ 25.390625 66.40625 21.84375 63.234375 \nQ 18.3125 60.0625 18.3125 54.390625 \nz\n\" id=\"DejaVuSans-56\"/>\n       </defs>\n       <use xlink:href=\"#DejaVuSans-48\"/>\n       <use x=\"63.623047\" xlink:href=\"#DejaVuSans-46\"/>\n       <use x=\"95.410156\" xlink:href=\"#DejaVuSans-56\"/>\n      </g>\n     </g>\n    </g>\n    <g id=\"ytick_8\">\n     <g id=\"line2d_17\">\n      <path clip-path=\"url(#pa663fe4d95)\" d=\"M 49.807187 38.559141 \nL 384.607188 38.559141 \n\" style=\"fill:none;stroke:#ffffff;stroke-linecap:round;\"/>\n     </g>\n     <g id=\"text_18\">\n      <!-- 0.9 -->\n      <g style=\"fill:#262626;\" transform=\"translate(22.81375 42.738281)scale(0.11 -0.11)\">\n       <defs>\n        <path d=\"M 10.984375 1.515625 \nL 10.984375 10.5 \nQ 14.703125 8.734375 18.5 7.8125 \nQ 22.3125 6.890625 25.984375 6.890625 \nQ 35.75 6.890625 40.890625 13.453125 \nQ 46.046875 20.015625 46.78125 33.40625 \nQ 43.953125 29.203125 39.59375 26.953125 \nQ 35.25 24.703125 29.984375 24.703125 \nQ 19.046875 24.703125 12.671875 31.3125 \nQ 6.296875 37.9375 6.296875 49.421875 \nQ 6.296875 60.640625 12.9375 67.421875 \nQ 19.578125 74.21875 30.609375 74.21875 \nQ 43.265625 74.21875 49.921875 64.515625 \nQ 56.59375 54.828125 56.59375 36.375 \nQ 56.59375 19.140625 48.40625 8.859375 \nQ 40.234375 -1.421875 26.421875 -1.421875 \nQ 22.703125 -1.421875 18.890625 -0.6875 \nQ 15.09375 0.046875 10.984375 1.515625 \nz\nM 30.609375 32.421875 \nQ 37.25 32.421875 41.125 36.953125 \nQ 45.015625 41.5 45.015625 49.421875 \nQ 45.015625 57.28125 41.125 61.84375 \nQ 37.25 66.40625 30.609375 66.40625 \nQ 23.96875 66.40625 20.09375 61.84375 \nQ 16.21875 57.28125 16.21875 49.421875 \nQ 16.21875 41.5 20.09375 36.953125 \nQ 23.96875 32.421875 30.609375 32.421875 \nz\n\" id=\"DejaVuSans-57\"/>\n       </defs>\n       <use xlink:href=\"#DejaVuSans-48\"/>\n       <use x=\"63.623047\" xlink:href=\"#DejaVuSans-46\"/>\n       <use x=\"95.410156\" xlink:href=\"#DejaVuSans-57\"/>\n      </g>\n     </g>\n    </g>\n    <g id=\"ytick_9\">\n     <g id=\"line2d_18\">\n      <path clip-path=\"url(#pa663fe4d95)\" d=\"M 49.807187 11.379141 \nL 384.607188 11.379141 \n\" style=\"fill:none;stroke:#ffffff;stroke-linecap:round;\"/>\n     </g>\n     <g id=\"text_19\">\n      <!-- 1.0 -->\n      <g style=\"fill:#262626;\" transform=\"translate(22.81375 15.558281)scale(0.11 -0.11)\">\n       <use xlink:href=\"#DejaVuSans-49\"/>\n       <use x=\"63.623047\" xlink:href=\"#DejaVuSans-46\"/>\n       <use x=\"95.410156\" xlink:href=\"#DejaVuSans-48\"/>\n      </g>\n     </g>\n    </g>\n    <g id=\"text_20\">\n     <!-- Accuracy -->\n     <g style=\"fill:#262626;\" transform=\"translate(16.318125 147.492891)rotate(-90)scale(0.12 -0.12)\">\n      <defs>\n       <path d=\"M 34.1875 63.1875 \nL 20.796875 26.90625 \nL 47.609375 26.90625 \nz\nM 28.609375 72.90625 \nL 39.796875 72.90625 \nL 67.578125 0 \nL 57.328125 0 \nL 50.6875 18.703125 \nL 17.828125 18.703125 \nL 11.1875 0 \nL 0.78125 0 \nz\n\" id=\"DejaVuSans-65\"/>\n       <path d=\"M 8.5 21.578125 \nL 8.5 54.6875 \nL 17.484375 54.6875 \nL 17.484375 21.921875 \nQ 17.484375 14.15625 20.5 10.265625 \nQ 23.53125 6.390625 29.59375 6.390625 \nQ 36.859375 6.390625 41.078125 11.03125 \nQ 45.3125 15.671875 45.3125 23.6875 \nL 45.3125 54.6875 \nL 54.296875 54.6875 \nL 54.296875 0 \nL 45.3125 0 \nL 45.3125 8.40625 \nQ 42.046875 3.421875 37.71875 1 \nQ 33.40625 -1.421875 27.6875 -1.421875 \nQ 18.265625 -1.421875 13.375 4.4375 \nQ 8.5 10.296875 8.5 21.578125 \nz\nM 31.109375 56 \nz\n\" id=\"DejaVuSans-117\"/>\n       <path d=\"M 41.109375 46.296875 \nQ 39.59375 47.171875 37.8125 47.578125 \nQ 36.03125 48 33.890625 48 \nQ 26.265625 48 22.1875 43.046875 \nQ 18.109375 38.09375 18.109375 28.8125 \nL 18.109375 0 \nL 9.078125 0 \nL 9.078125 54.6875 \nL 18.109375 54.6875 \nL 18.109375 46.1875 \nQ 20.953125 51.171875 25.484375 53.578125 \nQ 30.03125 56 36.53125 56 \nQ 37.453125 56 38.578125 55.875 \nQ 39.703125 55.765625 41.0625 55.515625 \nz\n\" id=\"DejaVuSans-114\"/>\n       <path d=\"M 34.28125 27.484375 \nQ 23.390625 27.484375 19.1875 25 \nQ 14.984375 22.515625 14.984375 16.5 \nQ 14.984375 11.71875 18.140625 8.90625 \nQ 21.296875 6.109375 26.703125 6.109375 \nQ 34.1875 6.109375 38.703125 11.40625 \nQ 43.21875 16.703125 43.21875 25.484375 \nL 43.21875 27.484375 \nz\nM 52.203125 31.203125 \nL 52.203125 0 \nL 43.21875 0 \nL 43.21875 8.296875 \nQ 40.140625 3.328125 35.546875 0.953125 \nQ 30.953125 -1.421875 24.3125 -1.421875 \nQ 15.921875 -1.421875 10.953125 3.296875 \nQ 6 8.015625 6 15.921875 \nQ 6 25.140625 12.171875 29.828125 \nQ 18.359375 34.515625 30.609375 34.515625 \nL 43.21875 34.515625 \nL 43.21875 35.40625 \nQ 43.21875 41.609375 39.140625 45 \nQ 35.0625 48.390625 27.6875 48.390625 \nQ 23 48.390625 18.546875 47.265625 \nQ 14.109375 46.140625 10.015625 43.890625 \nL 10.015625 52.203125 \nQ 14.9375 54.109375 19.578125 55.046875 \nQ 24.21875 56 28.609375 56 \nQ 40.484375 56 46.34375 49.84375 \nQ 52.203125 43.703125 52.203125 31.203125 \nz\n\" id=\"DejaVuSans-97\"/>\n       <path d=\"M 32.171875 -5.078125 \nQ 28.375 -14.84375 24.75 -17.8125 \nQ 21.140625 -20.796875 15.09375 -20.796875 \nL 7.90625 -20.796875 \nL 7.90625 -13.28125 \nL 13.1875 -13.28125 \nQ 16.890625 -13.28125 18.9375 -11.515625 \nQ 21 -9.765625 23.484375 -3.21875 \nL 25.09375 0.875 \nL 2.984375 54.6875 \nL 12.5 54.6875 \nL 29.59375 11.921875 \nL 46.6875 54.6875 \nL 56.203125 54.6875 \nz\n\" id=\"DejaVuSans-121\"/>\n      </defs>\n      <use xlink:href=\"#DejaVuSans-65\"/>\n      <use x=\"66.658203\" xlink:href=\"#DejaVuSans-99\"/>\n      <use x=\"121.638672\" xlink:href=\"#DejaVuSans-99\"/>\n      <use x=\"176.619141\" xlink:href=\"#DejaVuSans-117\"/>\n      <use x=\"239.998047\" xlink:href=\"#DejaVuSans-114\"/>\n      <use x=\"281.111328\" xlink:href=\"#DejaVuSans-97\"/>\n      <use x=\"342.390625\" xlink:href=\"#DejaVuSans-99\"/>\n      <use x=\"397.371094\" xlink:href=\"#DejaVuSans-121\"/>\n     </g>\n    </g>\n   </g>\n   <g id=\"line2d_19\">\n    <path clip-path=\"url(#pa663fe4d95)\" d=\"M 65.025369 19.269226 \nL 141.116278 14.09986 \nL 217.207188 14.09986 \nL 293.298097 12.467428 \nL 369.389006 12.195356 \n\" style=\"fill:none;stroke:#4c72b0;stroke-linecap:round;stroke-width:1.5;\"/>\n   </g>\n   <g id=\"line2d_20\">\n    <path clip-path=\"url(#pa663fe4d95)\" d=\"M 65.025369 147.652774 \nL 141.116278 147.448971 \nL 217.207188 146.973436 \nL 293.298097 145.818581 \nL 369.389006 148.400032 \n\" style=\"fill:none;stroke:#dd8452;stroke-linecap:round;stroke-width:1.5;\"/>\n   </g>\n   <g id=\"patch_3\">\n    <path d=\"M 49.807187 228.819141 \nL 49.807187 11.379141 \n\" style=\"fill:none;stroke:#ffffff;stroke-linecap:square;stroke-linejoin:miter;stroke-width:1.25;\"/>\n   </g>\n   <g id=\"patch_4\">\n    <path d=\"M 384.607188 228.819141 \nL 384.607188 11.379141 \n\" style=\"fill:none;stroke:#ffffff;stroke-linecap:square;stroke-linejoin:miter;stroke-width:1.25;\"/>\n   </g>\n   <g id=\"patch_5\">\n    <path d=\"M 49.807187 228.819141 \nL 384.607188 228.819141 \n\" style=\"fill:none;stroke:#ffffff;stroke-linecap:square;stroke-linejoin:miter;stroke-width:1.25;\"/>\n   </g>\n   <g id=\"patch_6\">\n    <path d=\"M 49.807187 11.379141 \nL 384.607188 11.379141 \n\" style=\"fill:none;stroke:#ffffff;stroke-linecap:square;stroke-linejoin:miter;stroke-width:1.25;\"/>\n   </g>\n   <g id=\"legend_1\">\n    <g id=\"patch_7\">\n     <path d=\"M 270.269063 223.319141 \nL 376.907188 223.319141 \nQ 379.107188 223.319141 379.107188 221.119141 \nL 379.107188 189.621328 \nQ 379.107188 187.421328 376.907188 187.421328 \nL 270.269063 187.421328 \nQ 268.069063 187.421328 268.069063 189.621328 \nL 268.069063 221.119141 \nQ 268.069063 223.319141 270.269063 223.319141 \nz\n\" style=\"fill:#eaeaf2;opacity:0.8;stroke:#cccccc;stroke-linejoin:miter;\"/>\n    </g>\n    <g id=\"line2d_21\">\n     <path d=\"M 272.469063 196.329609 \nL 294.469063 196.329609 \n\" style=\"fill:none;stroke:#4c72b0;stroke-linecap:round;stroke-width:1.5;\"/>\n    </g>\n    <g id=\"line2d_22\"/>\n    <g id=\"text_21\">\n     <!-- accuracy -->\n     <g style=\"fill:#262626;\" transform=\"translate(303.269063 200.179609)scale(0.11 -0.11)\">\n      <use xlink:href=\"#DejaVuSans-97\"/>\n      <use x=\"61.279297\" xlink:href=\"#DejaVuSans-99\"/>\n      <use x=\"116.259766\" xlink:href=\"#DejaVuSans-99\"/>\n      <use x=\"171.240234\" xlink:href=\"#DejaVuSans-117\"/>\n      <use x=\"234.619141\" xlink:href=\"#DejaVuSans-114\"/>\n      <use x=\"275.732422\" xlink:href=\"#DejaVuSans-97\"/>\n      <use x=\"337.011719\" xlink:href=\"#DejaVuSans-99\"/>\n      <use x=\"391.992188\" xlink:href=\"#DejaVuSans-121\"/>\n     </g>\n    </g>\n    <g id=\"line2d_23\">\n     <path d=\"M 272.469063 212.475547 \nL 294.469063 212.475547 \n\" style=\"fill:none;stroke:#dd8452;stroke-linecap:round;stroke-width:1.5;\"/>\n    </g>\n    <g id=\"line2d_24\"/>\n    <g id=\"text_22\">\n     <!-- val_accuracy -->\n     <g style=\"fill:#262626;\" transform=\"translate(303.269063 216.325547)scale(0.11 -0.11)\">\n      <defs>\n       <path d=\"M 2.984375 54.6875 \nL 12.5 54.6875 \nL 29.59375 8.796875 \nL 46.6875 54.6875 \nL 56.203125 54.6875 \nL 35.6875 0 \nL 23.484375 0 \nz\n\" id=\"DejaVuSans-118\"/>\n       <path d=\"M 9.421875 75.984375 \nL 18.40625 75.984375 \nL 18.40625 0 \nL 9.421875 0 \nz\n\" id=\"DejaVuSans-108\"/>\n       <path d=\"M 50.984375 -16.609375 \nL 50.984375 -23.578125 \nL -0.984375 -23.578125 \nL -0.984375 -16.609375 \nz\n\" id=\"DejaVuSans-95\"/>\n      </defs>\n      <use xlink:href=\"#DejaVuSans-118\"/>\n      <use x=\"59.179688\" xlink:href=\"#DejaVuSans-97\"/>\n      <use x=\"120.458984\" xlink:href=\"#DejaVuSans-108\"/>\n      <use x=\"148.242188\" xlink:href=\"#DejaVuSans-95\"/>\n      <use x=\"198.242188\" xlink:href=\"#DejaVuSans-97\"/>\n      <use x=\"259.521484\" xlink:href=\"#DejaVuSans-99\"/>\n      <use x=\"314.501953\" xlink:href=\"#DejaVuSans-99\"/>\n      <use x=\"369.482422\" xlink:href=\"#DejaVuSans-117\"/>\n      <use x=\"432.861328\" xlink:href=\"#DejaVuSans-114\"/>\n      <use x=\"473.974609\" xlink:href=\"#DejaVuSans-97\"/>\n      <use x=\"535.253906\" xlink:href=\"#DejaVuSans-99\"/>\n      <use x=\"590.234375\" xlink:href=\"#DejaVuSans-121\"/>\n     </g>\n    </g>\n   </g>\n  </g>\n </g>\n <defs>\n  <clipPath id=\"pa663fe4d95\">\n   <rect height=\"217.44\" width=\"334.8\" x=\"49.807187\" y=\"11.379141\"/>\n  </clipPath>\n </defs>\n</svg>\n",
      "image/png": "[encoded data removed]"
     },
     "metadata": {}
    }
   ],
   "source": [
    "history = cnn_final.fit(X_scaled, y_one_hot, validation_split=0.8, epochs=5, )\n",
    "\n",
    "plt.plot(history.history['accuracy'], label='accuracy')\n",
    "plt.plot(history.history['val_accuracy'], label = 'val_accuracy')\n",
    "plt.xlabel('Epoch')\n",
    "plt.ylabel('Accuracy')\n",
    "plt.ylim([0.2, 1])\n",
    "plt.legend(loc='lower right')"
   ]
  },
  {
   "cell_type": "code",
   "execution_count": null,
   "metadata": {},
   "outputs": [],
   "source": [
    "random_forest_final.fit(X_scaled, y_int_encode)"
   ]
  }
 ],
 "metadata": {
  "kernelspec": {
   "name": "python3",
   "display_name": "Python 3.8.5 64-bit ('ece-740-sm': conda)",
   "metadata": {
    "interpreter": {
     "hash": "840e7341ca500d356bb47c00147fed75f20a8b9b4885feed88ba285e965d9439"
    }
   }
  },
  "language_info": {
   "codemirror_mode": {
    "name": "ipython",
    "version": 3
   },
   "file_extension": ".py",
   "mimetype": "text/x-python",
   "name": "python",
   "nbconvert_exporter": "python",
   "pygments_lexer": "ipython3",
   "version": "3.8.5-final"
  }
 },
 "nbformat": 4,
 "nbformat_minor": 4
}