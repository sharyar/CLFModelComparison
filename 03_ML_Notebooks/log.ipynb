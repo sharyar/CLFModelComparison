{
 "metadata": {
  "language_info": {
   "codemirror_mode": {
    "name": "ipython",
    "version": 3
   },
   "file_extension": ".py",
   "mimetype": "text/x-python",
   "name": "python",
   "nbconvert_exporter": "python",
   "pygments_lexer": "ipython3",
   "version": "3.8.5-final"
  },
  "orig_nbformat": 2,
  "kernelspec": {
   "name": "python3",
   "display_name": "Python 3"
  }
 },
 "nbformat": 4,
 "nbformat_minor": 2,
 "cells": [
  {
   "cell_type": "code",
   "execution_count": null,
   "metadata": {},
   "outputs": [],
   "source": [
    "Fitting and testing k_neighbors_clf classifier\n",
    "Fitting 3 folds for each of 9 candidates, totalling 27 fits\n",
    "[Parallel(n_jobs=-1)]: Using backend LokyBackend with 12 concurrent workers.\n",
    "[Parallel(n_jobs=-1)]: Done  18 out of  27 | elapsed:  2.5min remaining:  1.2min\n",
    "[Parallel(n_jobs=-1)]: Done  27 out of  27 | elapsed:  2.8min finished\n",
    "Parameter Optimization Complete for k_neighbors_clf, best params: \n",
    "{'leaf_size': 10, 'n_neighbors': 3, 'p': 1, 'weights': 'distance'}\n",
    "[Parallel(n_jobs=-1)]: Using backend LokyBackend with 12 concurrent workers.\n",
    "[Parallel(n_jobs=-1)]: Done   3 out of   3 | elapsed:  4.4min finished\n",
    "[Parallel(n_jobs=-1)]: Using backend LokyBackend with 12 concurrent workers.\n",
    "Testing complete for k_neighbors_clf, results:\n",
    "{'fit_time': array([213.8618958 , 211.6013844 , 217.32942367]), 'score_time': array([44.9520452 , 44.23530459, 44.0265348 ]), 'test_acc': array([0.40611878, 0.39892022, 0.41776711]), 'test_prec_macro': array([0.61323858, 0.56514008, 0.5688961 ]), 'test_rec_macro': array([0.40625   , 0.39880843, 0.41782354]), 'test_f1_macro': array([0.34702558, 0.34758347, 0.37202981])}\n",
    "Fitting and testing gaussianb_clf classifier\n",
    "Fitting 3 folds for each of 1 candidates, totalling 3 fits\n",
    "[Parallel(n_jobs=-1)]: Done   3 out of   3 | elapsed:    0.8s finished\n",
    "Parameter Optimization Complete for gaussianb_clf, best params: \n",
    "{'var_smoothing': 1e-09}\n",
    "[Parallel(n_jobs=-1)]: Using backend LokyBackend with 12 concurrent workers.\n",
    "[Parallel(n_jobs=-1)]: Done   3 out of   3 | elapsed:    2.3s finished\n",
    "[Parallel(n_jobs=-1)]: Using backend LokyBackend with 12 concurrent workers.\n",
    "Testing complete for gaussianb_clf, results:\n",
    "{'fit_time': array([1.86149359, 1.84264684, 1.8605895 ]), 'score_time': array([0.37776208, 0.37040067, 0.37806916]), 'test_acc': array([0.5734853 , 0.56808638, 0.6032413 ]), 'test_prec_macro': array([0.57759867, 0.5698548 , 0.61350699]), 'test_rec_macro': array([0.57376012, 0.56787415, 0.60304909]), 'test_f1_macro': array([0.57146158, 0.56410903, 0.59934922])}\n",
    "Fitting and testing svm_clf_ovr classifier\n",
    "Fitting 3 folds for each of 9 candidates, totalling 27 fits\n",
    "[Parallel(n_jobs=-1)]: Done  18 out of  27 | elapsed:  8.2min remaining:  4.1min\n",
    "[Parallel(n_jobs=-1)]: Done  27 out of  27 | elapsed: 10.9min finished\n",
    "Parameter Optimization Complete for svm_clf_ovr, best params: \n",
    "{'C': 1000.0, 'decision_function_shape': 'ovr', 'gamma': 0.001, 'kernel': 'rbf', 'random_state': 42}\n",
    "[Parallel(n_jobs=-1)]: Using backend LokyBackend with 12 concurrent workers.\n",
    "Testing complete for svm_clf_ovr, results:\n",
    "{'fit_time': array([884.35653257, 884.0116322 , 889.9441607 ]), 'score_time': array([20.77644491, 20.88173223, 20.41539669]), 'test_acc': array([0.58428314, 0.58488302, 0.59963986]), 'test_prec_macro': array([0.58738845, 0.59148506, 0.60161264]), 'test_rec_macro': array([0.58446816, 0.58482184, 0.59950658]), 'test_f1_macro': array([0.58293967, 0.58473241, 0.59795643])}\n",
    "\n",
    "{'tuner': {'test_acc': [0.7048590281943611,\n",
    "   0.7240551889622076,\n",
    "   0.723889555822329],\n",
    "  'test_prec_macro': [0.7323234691079745,\n",
    "   0.7400079846164782,\n",
    "   0.7200126250204175],\n",
    "  'test_rec_macro': [0.7047323564593301,\n",
    "   0.7242132867132867,\n",
    "   0.7237158400809717],\n",
    "  'test_f1_macro': [0.6846950911236159,\n",
    "   0.7136198630830305,\n",
    "   0.7113697173915325]},\n",
    " 'random_forest_clf': {'fit_time': array([36.96741915, 37.42922997, 36.94465399]),\n",
    "  'score_time': array([0.11586285, 0.09777021, 0.11373377]),\n",
    "  'test_acc': array([0.69946011, 0.69286143, 0.70168067]),\n",
    "  'test_prec_macro': array([0.70891425, 0.69386642, 0.70388084]),\n",
    "  'test_rec_macro': array([0.69959687, 0.69287702, 0.7015579 ]),\n",
    "  'test_f1_macro': array([0.70183709, 0.69150639, 0.70079587])},\n",
    " 'dummy_clf': {'fit_time': array([0.28354669, 0.28467655, 0.2832427 ]),\n",
    "  'score_time': array([0.00368166, 0.00358176, 0.00363851]),\n",
    "  'test_acc': array([0.12477504, 0.12357528, 0.11404562]),\n",
    "  'test_prec_macro': array([0.12462236, 0.12339538, 0.11454724]),\n",
    "  'test_rec_macro': array([0.12471246, 0.1236083 , 0.11407343]),\n",
    "  'test_f1_macro': array([0.12455713, 0.12339533, 0.11422468])}}"
   ]
  },
  {
   "cell_type": "code",
   "execution_count": 2,
   "metadata": {},
   "outputs": [],
   "source": [
    "from numpy import array"
   ]
  },
  {
   "cell_type": "code",
   "execution_count": 4,
   "metadata": {},
   "outputs": [],
   "source": [
    "scores = {}"
   ]
  },
  {
   "cell_type": "code",
   "execution_count": 6,
   "metadata": {},
   "outputs": [],
   "source": [
    "scores['knn'] = {'fit_time': array([213.8618958 , 211.6013844 , 217.32942367]), 'score_time': array([44.9520452 , 44.23530459, 44.0265348 ]), 'test_acc': array([0.40611878, 0.39892022, 0.41776711]), 'test_prec_macro': array([0.61323858, 0.56514008, 0.5688961 ]), 'test_rec_macro': array([0.40625   , 0.39880843, 0.41782354]), 'test_f1_macro': array([0.34702558, 0.34758347, 0.37202981])}"
   ]
  },
  {
   "cell_type": "code",
   "execution_count": 8,
   "metadata": {},
   "outputs": [],
   "source": [
    "scores['gnb'] = {'fit_time': array([1.86149359, 1.84264684, 1.8605895 ]), 'score_time': array([0.37776208, 0.37040067, 0.37806916]), 'test_acc': array([0.5734853 , 0.56808638, 0.6032413 ]), 'test_prec_macro': array([0.57759867, 0.5698548 , 0.61350699]), 'test_rec_macro': array([0.57376012, 0.56787415, 0.60304909]), 'test_f1_macro': array([0.57146158, 0.56410903, 0.59934922])}"
   ]
  },
  {
   "cell_type": "code",
   "execution_count": 9,
   "metadata": {},
   "outputs": [],
   "source": [
    "scores['svm_ovr'] = {'fit_time': array([884.35653257, 884.0116322 , 889.9441607 ]), 'score_time': array([20.77644491, 20.88173223, 20.41539669]), 'test_acc': array([0.58428314, 0.58488302, 0.59963986]), 'test_prec_macro': array([0.58738845, 0.59148506, 0.60161264]), 'test_rec_macro': array([0.58446816, 0.58482184, 0.59950658]), 'test_f1_macro': array([0.58293967, 0.58473241, 0.59795643])}"
   ]
  },
  {
   "cell_type": "code",
   "execution_count": 11,
   "metadata": {},
   "outputs": [],
   "source": [
    "scores['cnn'] = {'test_acc': [0.7048590281943611,\n",
    "   0.7240551889622076,\n",
    "   0.723889555822329],\n",
    "  'test_prec_macro': [0.7323234691079745,\n",
    "   0.7400079846164782,\n",
    "   0.7200126250204175],\n",
    "  'test_rec_macro': [0.7047323564593301,\n",
    "   0.7242132867132867,\n",
    "   0.7237158400809717],\n",
    "  'test_f1_macro': [0.6846950911236159,\n",
    "   0.7136198630830305,\n",
    "   0.7113697173915325]}"
   ]
  },
  {
   "cell_type": "code",
   "execution_count": 14,
   "metadata": {},
   "outputs": [],
   "source": [
    "scores['random_forest_clf'] = {'fit_time': array([36.96741915, 37.42922997, 36.94465399]),\n",
    "  'score_time': array([0.11586285, 0.09777021, 0.11373377]),\n",
    "  'test_acc': array([0.69946011, 0.69286143, 0.70168067]),\n",
    "  'test_prec_macro': array([0.70891425, 0.69386642, 0.70388084]),\n",
    "  'test_rec_macro': array([0.69959687, 0.69287702, 0.7015579 ]),\n",
    "  'test_f1_macro': array([0.70183709, 0.69150639, 0.70079587])}"
   ]
  },
  {
   "cell_type": "code",
   "execution_count": 15,
   "metadata": {},
   "outputs": [],
   "source": [
    "scores['dummy'] = {'fit_time': array([0.28354669, 0.28467655, 0.2832427 ]),\n",
    "  'score_time': array([0.00368166, 0.00358176, 0.00363851]),\n",
    "  'test_acc': array([0.12477504, 0.12357528, 0.11404562]),\n",
    "  'test_prec_macro': array([0.12462236, 0.12339538, 0.11454724]),\n",
    "  'test_rec_macro': array([0.12471246, 0.1236083 , 0.11407343]),\n",
    "  'test_f1_macro': array([0.12455713, 0.12339533, 0.11422468])}"
   ]
  },
  {
   "cell_type": "code",
   "execution_count": 22,
   "metadata": {},
   "outputs": [],
   "source": [
    "import pandas as pd\n",
    "\n",
    "df = pd.DataFrame(columns=['Accuracy', 'Precision', 'Recall', 'F1', 'Classifier'])\n",
    "\n"
   ]
  },
  {
   "cell_type": "code",
   "execution_count": 23,
   "metadata": {},
   "outputs": [
    {
     "output_type": "execute_result",
     "data": {
      "text/plain": [
       "Empty DataFrame\n",
       "Columns: [Accuracy, Precision, Recall, F1]\n",
       "Index: []"
      ],
      "text/html": "<div>\n<style scoped>\n    .dataframe tbody tr th:only-of-type {\n        vertical-align: middle;\n    }\n\n    .dataframe tbody tr th {\n        vertical-align: top;\n    }\n\n    .dataframe thead th {\n        text-align: right;\n    }\n</style>\n<table border=\"1\" class=\"dataframe\">\n  <thead>\n    <tr style=\"text-align: right;\">\n      <th></th>\n      <th>Accuracy</th>\n      <th>Precision</th>\n      <th>Recall</th>\n      <th>F1</th>\n    </tr>\n  </thead>\n  <tbody>\n  </tbody>\n</table>\n</div>"
     },
     "metadata": {},
     "execution_count": 23
    }
   ],
   "source": [
    "df"
   ]
  },
  {
   "cell_type": "code",
   "execution_count": 24,
   "metadata": {},
   "outputs": [
    {
     "output_type": "execute_result",
     "data": {
      "text/plain": [
       "{'knn': {'fit_time': array([213.8618958 , 211.6013844 , 217.32942367]),\n",
       "  'score_time': array([44.9520452 , 44.23530459, 44.0265348 ]),\n",
       "  'test_acc': array([0.40611878, 0.39892022, 0.41776711]),\n",
       "  'test_prec_macro': array([0.61323858, 0.56514008, 0.5688961 ]),\n",
       "  'test_rec_macro': array([0.40625   , 0.39880843, 0.41782354]),\n",
       "  'test_f1_macro': array([0.34702558, 0.34758347, 0.37202981])},\n",
       " 'gnb': {'fit_time': array([1.86149359, 1.84264684, 1.8605895 ]),\n",
       "  'score_time': array([0.37776208, 0.37040067, 0.37806916]),\n",
       "  'test_acc': array([0.5734853 , 0.56808638, 0.6032413 ]),\n",
       "  'test_prec_macro': array([0.57759867, 0.5698548 , 0.61350699]),\n",
       "  'test_rec_macro': array([0.57376012, 0.56787415, 0.60304909]),\n",
       "  'test_f1_macro': array([0.57146158, 0.56410903, 0.59934922])},\n",
       " 'svm_ovr': {'fit_time': array([884.35653257, 884.0116322 , 889.9441607 ]),\n",
       "  'score_time': array([20.77644491, 20.88173223, 20.41539669]),\n",
       "  'test_acc': array([0.58428314, 0.58488302, 0.59963986]),\n",
       "  'test_prec_macro': array([0.58738845, 0.59148506, 0.60161264]),\n",
       "  'test_rec_macro': array([0.58446816, 0.58482184, 0.59950658]),\n",
       "  'test_f1_macro': array([0.58293967, 0.58473241, 0.59795643])},\n",
       " 'cnn': {'test_acc': [0.7048590281943611,\n",
       "   0.7240551889622076,\n",
       "   0.723889555822329],\n",
       "  'test_prec_macro': [0.7323234691079745,\n",
       "   0.7400079846164782,\n",
       "   0.7200126250204175],\n",
       "  'test_rec_macro': [0.7047323564593301,\n",
       "   0.7242132867132867,\n",
       "   0.7237158400809717],\n",
       "  'test_f1_macro': [0.6846950911236159,\n",
       "   0.7136198630830305,\n",
       "   0.7113697173915325]},\n",
       " 'random_forest_clf': {'fit_time': array([36.96741915, 37.42922997, 36.94465399]),\n",
       "  'score_time': array([0.11586285, 0.09777021, 0.11373377]),\n",
       "  'test_acc': array([0.69946011, 0.69286143, 0.70168067]),\n",
       "  'test_prec_macro': array([0.70891425, 0.69386642, 0.70388084]),\n",
       "  'test_rec_macro': array([0.69959687, 0.69287702, 0.7015579 ]),\n",
       "  'test_f1_macro': array([0.70183709, 0.69150639, 0.70079587])},\n",
       " 'dummy': {'fit_time': array([0.28354669, 0.28467655, 0.2832427 ]),\n",
       "  'score_time': array([0.00368166, 0.00358176, 0.00363851]),\n",
       "  'test_acc': array([0.12477504, 0.12357528, 0.11404562]),\n",
       "  'test_prec_macro': array([0.12462236, 0.12339538, 0.11454724]),\n",
       "  'test_rec_macro': array([0.12471246, 0.1236083 , 0.11407343]),\n",
       "  'test_f1_macro': array([0.12455713, 0.12339533, 0.11422468])}}"
      ]
     },
     "metadata": {},
     "execution_count": 24
    }
   ],
   "source": [
    "scores"
   ]
  },
  {
   "cell_type": "code",
   "execution_count": null,
   "metadata": {},
   "outputs": [],
   "source": []
  }
 ]
}